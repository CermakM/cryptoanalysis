{
 "cells": [
  {
   "cell_type": "markdown",
   "metadata": {
    "extensions": {
     "jupyter_dashboards": {
      "version": 1,
      "views": {
       "grid_default": {
        "col": 0,
        "height": 3,
        "hidden": false,
        "row": 0,
        "width": 12
       },
       "report_default": {
        "hidden": false
       }
      }
     }
    }
   },
   "source": [
    "<h1><center> Vigenér cipher decryption </center><h1>"
   ]
  },
  {
   "cell_type": "markdown",
   "metadata": {
    "extensions": {
     "jupyter_dashboards": {
      "version": 1,
      "views": {
       "grid_default": {
        "col": 0,
        "height": 2,
        "hidden": false,
        "row": 3,
        "width": 12
       },
       "report_default": {
        "hidden": false
       }
      }
     }
    }
   },
   "source": [
    "---"
   ]
  },
  {
   "cell_type": "code",
   "execution_count": 1,
   "metadata": {
    "extensions": {
     "jupyter_dashboards": {
      "version": 1,
      "views": {
       "grid_default": {
        "hidden": true
       },
       "report_default": {
        "hidden": true
       }
      }
     }
    }
   },
   "outputs": [],
   "source": [
    "import os\n",
    "import sys\n",
    "\n",
    "__module_path = os.path.abspath(os.path.join('..'))\n",
    "if __module_path not in sys.path:\n",
    "    sys.path.append(__module_path)\n",
    "\n",
    "import cryptoanalysis\n",
    "\n",
    "import numpy as np\n",
    "\n",
    "from IPython.display import Javascript, HTML\n",
    "\n",
    "from plotly import graph_objs, __version__\n",
    "import plotly.offline as plotly\n",
    "\n",
    "from ipywidgets import Layout, widgets, Box, HBox, VBox"
   ]
  },
  {
   "cell_type": "code",
   "execution_count": 2,
   "metadata": {
    "extensions": {
     "jupyter_dashboards": {
      "version": 1,
      "views": {
       "grid_default": {
        "hidden": true
       },
       "report_default": {
        "hidden": true
       }
      }
     }
    }
   },
   "outputs": [],
   "source": [
    "%matplotlib inline"
   ]
  },
  {
   "cell_type": "code",
   "execution_count": 3,
   "metadata": {
    "extensions": {
     "jupyter_dashboards": {
      "version": 1,
      "views": {
       "grid_default": {
        "hidden": true
       },
       "report_default": {
        "hidden": false
       }
      }
     }
    }
   },
   "outputs": [
    {
     "data": {
      "text/html": [
       "<script>requirejs.config({paths: { 'plotly': ['https://cdn.plot.ly/plotly-latest.min']},});if(!window.Plotly) {{require(['plotly'],function(plotly) {window.Plotly=plotly;});}}</script>"
      ],
      "text/vnd.plotly.v1+html": [
       "<script>requirejs.config({paths: { 'plotly': ['https://cdn.plot.ly/plotly-latest.min']},});if(!window.Plotly) {{require(['plotly'],function(plotly) {window.Plotly=plotly;});}}</script>"
      ]
     },
     "metadata": {},
     "output_type": "display_data"
    }
   ],
   "source": [
    "plotly_version = __version__\n",
    "\n",
    "# For online connection:\n",
    "# plotly.tools.set_credentials_file(username='CermakM', api_key='q2yoGYw052dyHMd8ztqx')\n",
    "# plotly.tools.set_config_file(world_readable=False, sharing='secret')\n",
    "\n",
    "plotly.init_notebook_mode(connected=True)"
   ]
  },
  {
   "cell_type": "code",
   "execution_count": 4,
   "metadata": {
    "extensions": {
     "jupyter_dashboards": {
      "version": 1,
      "views": {
       "grid_default": {
        "hidden": true
       },
       "report_default": {
        "hidden": true
       }
      }
     }
    }
   },
   "outputs": [],
   "source": [
    "_submitted = False\n",
    "_reset = True\n",
    "\n",
    "cipher = ''\n",
    "decrypted_text = ''\n",
    "\n",
    "analyser = cryptoanalysis.decryption.Analyser(lang='en')"
   ]
  },
  {
   "cell_type": "markdown",
   "metadata": {
    "extensions": {
     "jupyter_dashboards": {
      "version": 1,
      "views": {
       "grid_default": {
        "col": 0,
        "height": 4,
        "hidden": true,
        "row": 3,
        "width": 12
       },
       "report_default": {
        "hidden": true
       }
      }
     }
    }
   },
   "source": [
    "### Encrypted text"
   ]
  },
  {
   "cell_type": "code",
   "execution_count": 5,
   "metadata": {
    "extensions": {
     "jupyter_dashboards": {
      "version": 1,
      "views": {
       "grid_default": {
        "hidden": true
       },
       "report_default": {}
      }
     }
    }
   },
   "outputs": [],
   "source": [
    "def _create_text_box(*args, **kwargs):\n",
    "    for widget in args:\n",
    "        widget.layout=Layout(width='100%', height='200px')\n",
    "    box = Box(args, **kwargs)\n",
    "    box.layout.display = 'flex'\n",
    "    box.layout.align_items = 'stretch'\n",
    "    box.layout.min_height = '230px'\n",
    "    box.layout.flex_direction = 'row'\n",
    "    return box"
   ]
  },
  {
   "cell_type": "code",
   "execution_count": 6,
   "metadata": {
    "extensions": {
     "jupyter_dashboards": {
      "version": 1,
      "views": {
       "grid_default": {
        "hidden": true
       },
       "report_default": {
        "hidden": true
       }
      }
     }
    }
   },
   "outputs": [],
   "source": [
    "input_area = widgets.Textarea(\n",
    "    placeholder='Encrypted text',\n",
    ")  \n",
    "\n",
    "output_area = widgets.Textarea(\n",
    "    placeholder='Decrypted text',\n",
    "    disabled=True\n",
    ")\n",
    "\n",
    "input_box = _create_text_box(input_area)\n",
    "output_box = _create_text_box(output_area)"
   ]
  },
  {
   "cell_type": "code",
   "execution_count": 7,
   "metadata": {
    "extensions": {
     "jupyter_dashboards": {
      "version": 1,
      "views": {
       "grid_default": {
        "hidden": true
       },
       "report_default": {
        "hidden": true
       }
      }
     }
    }
   },
   "outputs": [],
   "source": [
    "submit_input_button = widgets.Button(\n",
    "    description='SUBMIT',\n",
    "    disabled=False,\n",
    "    button_style='success',\n",
    "    icon='check'\n",
    ")\n",
    "\n",
    "reset_input_button = widgets.Button(\n",
    "    description='RESET',\n",
    "    disabled=False,\n",
    "    button_style='danger'\n",
    ")"
   ]
  },
  {
   "cell_type": "code",
   "execution_count": 8,
   "metadata": {
    "extensions": {
     "jupyter_dashboards": {
      "version": 1,
      "views": {
       "grid_default": {
        "hidden": true
       },
       "report_default": {
        "hidden": true
       }
      }
     }
    }
   },
   "outputs": [],
   "source": [
    "def _on_submit(sender):\n",
    "    global analyser, cipher, _submitted, _reset\n",
    "            \n",
    "    cipher = input_area.value\n",
    "    \n",
    "    if not cipher:\n",
    "        return\n",
    "    \n",
    "    _reset = False\n",
    "\n",
    "    analyser = cryptoanalysis.decryption.Analyser(cipher=cipher, lang='en')\n",
    "    \n",
    "    display(Javascript('IPython.notebook.execute_cells_below()'))\n",
    "    \n",
    "    if not _submitted:\n",
    "#         Javascript('$.notify(\"Cipher submitted\");')\n",
    "        \n",
    "        _submitted = True\n",
    "    \n",
    "def _on_reset(sender):\n",
    "    global analyser, cipher, _submitted\n",
    "    \n",
    "    _submitted = False\n",
    "    \n",
    "    cipher = ''\n",
    "    analyser = cryptoanalysis.decryption.Analyser(lang='en')\n",
    "    input_area.value = ''\n",
    "    \n",
    "    display(Javascript('IPython.notebook.execute_cells_below()'))\n",
    "    \n",
    "    if not _reset:\n",
    "#         Javascript('$.notify(\"Analyser has been reset\")')\n",
    "        \n",
    "        _reset = True"
   ]
  },
  {
   "cell_type": "code",
   "execution_count": 9,
   "metadata": {
    "extensions": {
     "jupyter_dashboards": {
      "version": 1,
      "views": {
       "grid_default": {
        "hidden": true
       },
       "report_default": {
        "hidden": true
       }
      }
     }
    }
   },
   "outputs": [],
   "source": [
    "submit_input_button.on_click(_on_submit)\n",
    "reset_input_button.on_click(_on_reset)"
   ]
  },
  {
   "cell_type": "code",
   "execution_count": 10,
   "metadata": {
    "extensions": {
     "jupyter_dashboards": {
      "version": 1,
      "views": {
       "grid_default": {
        "hidden": true
       },
       "report_default": {}
      }
     }
    }
   },
   "outputs": [],
   "source": [
    "submit_input_button.layout.margin = '2px 2px 2px auto'\n",
    "reset_input_button.layout.margin = '2px 2px 2px 5px'\n",
    "\n",
    "submit_box = HBox([submit_input_button, reset_input_button])\n",
    "\n",
    "submit_box.layout.display = 'flex'\n",
    "submit_box.layout.flex_flow = 'row'\n",
    "submit_box.layout.align_items = 'flex-end'"
   ]
  },
  {
   "cell_type": "code",
   "execution_count": 11,
   "metadata": {
    "extensions": {
     "jupyter_dashboards": {
      "version": 1,
      "views": {
       "grid_default": {
        "hidden": true
       },
       "report_default": {}
      }
     }
    }
   },
   "outputs": [],
   "source": [
    "button_samples = widgets.ToggleButtons(\n",
    "    options=['Sample 1', 'Sample 2', 'Sample 3'],\n",
    "    description='Load sample:',\n",
    "    disabled=False,\n",
    "    button_style='',\n",
    "    tooltips=['Caesar cipher', 'Vigener cipher - short', 'Vigener cipher - long']\n",
    ")\n",
    "\n",
    "button_load = widgets.Button(\n",
    "    description='LOAD',\n",
    "    disabled=False,\n",
    "    button_style='success',\n",
    "    icon='upload'\n",
    ")\n",
    "\n",
    "samples = ['samples/TIKcipher1.txt', 'samples/TIKcipher2a.txt', 'samples/TIKcipher2b.txt']\n",
    "\n",
    "def _on_sample_load(sender):\n",
    "    sample_to_read = samples[button_samples.index]\n",
    "    with open(os.path.join(__module_path, sample_to_read)) as s:\n",
    "        input_area.value = s.read()\n",
    "        \n",
    "button_load.on_click(_on_sample_load)"
   ]
  },
  {
   "cell_type": "code",
   "execution_count": 12,
   "metadata": {
    "extensions": {
     "jupyter_dashboards": {
      "version": 1,
      "views": {
       "grid_default": {
        "hidden": true
       },
       "report_default": {}
      }
     }
    }
   },
   "outputs": [],
   "source": [
    "def _on_input(sender):\n",
    "    pass\n",
    "    \n",
    "input_area.observe(_on_input, names='value')"
   ]
  },
  {
   "cell_type": "code",
   "execution_count": 13,
   "metadata": {
    "extensions": {
     "jupyter_dashboards": {
      "version": 1,
      "views": {
       "grid_default": {
        "col": 0,
        "height": 2,
        "hidden": false,
        "row": 5,
        "width": 12
       },
       "report_default": {}
      }
     }
    }
   },
   "outputs": [
    {
     "data": {
      "application/vnd.jupyter.widget-view+json": {
       "model_id": "32d84f31417e4ec5a9b00cbf63ad8c4d",
       "version_major": 2,
       "version_minor": 0
      },
      "text/plain": [
       "A Jupyter Widget"
      ]
     },
     "metadata": {},
     "output_type": "display_data"
    }
   ],
   "source": [
    "display(HBox([button_samples, button_load]))"
   ]
  },
  {
   "cell_type": "code",
   "execution_count": 14,
   "metadata": {
    "extensions": {
     "jupyter_dashboards": {
      "version": 1,
      "views": {
       "grid_default": {
        "col": 0,
        "height": 10,
        "hidden": false,
        "row": 7,
        "width": 12
       },
       "report_default": {
        "hidden": true
       }
      }
     }
    },
    "scrolled": true
   },
   "outputs": [
    {
     "data": {
      "application/vnd.jupyter.widget-view+json": {
       "model_id": "1e6685594600451abd7a2a7efb0bfe97",
       "version_major": 2,
       "version_minor": 0
      },
      "text/plain": [
       "A Jupyter Widget"
      ]
     },
     "metadata": {},
     "output_type": "display_data"
    }
   ],
   "source": [
    "display(VBox([input_box, submit_box]))"
   ]
  },
  {
   "cell_type": "markdown",
   "metadata": {
    "extensions": {
     "jupyter_dashboards": {
      "version": 1,
      "views": {
       "grid_default": {
        "col": 0,
        "height": 4,
        "hidden": true,
        "row": 17,
        "width": 12
       },
       "report_default": {
        "hidden": false
       }
      }
     }
    }
   },
   "source": [
    "---\n",
    "### Frequency Analysis"
   ]
  },
  {
   "cell_type": "code",
   "execution_count": 15,
   "metadata": {
    "extensions": {
     "jupyter_dashboards": {
      "version": 1,
      "views": {
       "grid_default": {
        "hidden": true
       },
       "report_default": {
        "hidden": true
       }
      }
     }
    }
   },
   "outputs": [],
   "source": [
    "default_lang_trace = graph_objs.Bar(\n",
    "    x=analyser.alphabet,\n",
    "    y=analyser.letter_frequency,\n",
    "    name='Language'\n",
    ")\n",
    "\n",
    "if cipher:\n",
    "    cipher_dict = analyser.get_char_frequency()\n",
    "    cipher_trace = graph_objs.Bar(\n",
    "        x=list(cipher_dict.keys()),\n",
    "        y=list(cipher_dict.values()),\n",
    "        name='Cipher'\n",
    "    )\n",
    "    data = [default_lang_trace, cipher_trace]\n",
    "\n",
    "else:\n",
    "    data = [default_lang_trace]\n",
    "    \n",
    "layout = graph_objs.Layout(\n",
    "    showlegend=True,\n",
    "    title='Frequency analysis',\n",
    "    xaxis=dict(tickangle=-45),\n",
    "    yaxis=dict(\n",
    "        title='Letter frequency',\n",
    "        tickformat=' %'),\n",
    "    barmode='group'\n",
    ")\n"
   ]
  },
  {
   "cell_type": "markdown",
   "metadata": {
    "extensions": {
     "jupyter_dashboards": {
      "version": 1,
      "views": {
       "grid_default": {
        "col": 0,
        "height": 2,
        "hidden": false,
        "row": 17,
        "width": 12
       },
       "report_default": {
        "hidden": true
       }
      }
     }
    }
   },
   "source": [
    "---"
   ]
  },
  {
   "cell_type": "code",
   "execution_count": 16,
   "metadata": {
    "extensions": {
     "jupyter_dashboards": {
      "version": 1,
      "views": {
       "grid_default": {
        "col": 0,
        "height": 19,
        "hidden": false,
        "row": 19,
        "width": 12
       },
       "report_default": {
        "hidden": false
       }
      }
     }
    }
   },
   "outputs": [
    {
     "data": {
      "application/vnd.plotly.v1+json": {
       "data": [
        {
         "name": "Language",
         "type": "bar",
         "x": [
          "a",
          "b",
          "c",
          "d",
          "e",
          "f",
          "g",
          "h",
          "i",
          "j",
          "k",
          "l",
          "m",
          "n",
          "o",
          "p",
          "q",
          "r",
          "s",
          "t",
          "u",
          "v",
          "w",
          "x",
          "y",
          "z"
         ],
         "y": [
          0.08167,
          0.01492,
          0.027819999999999998,
          0.04253,
          0.127,
          0.02228,
          0.02015,
          0.06094,
          0.06966,
          0.0015300000000000001,
          0.00772,
          0.04025,
          0.024059999999999998,
          0.06749,
          0.07507,
          0.01929,
          0.00095,
          0.05987000000000001,
          0.06327,
          0.09056,
          0.02758,
          0.00978,
          0.0236,
          0.0015,
          0.01974,
          0.00074
         ]
        }
       ],
       "layout": {
        "barmode": "group",
        "showlegend": true,
        "title": "Frequency analysis",
        "xaxis": {
         "tickangle": -45
        },
        "yaxis": {
         "tickformat": " %",
         "title": "Letter frequency"
        }
       }
      },
      "text/html": [
       "<div id=\"e294ddde-e7e4-417d-982d-4e2aee322caf\" style=\"height: 525px; width: 100%;\" class=\"plotly-graph-div\"></div><script type=\"text/javascript\">require([\"plotly\"], function(Plotly) { window.PLOTLYENV=window.PLOTLYENV || {};window.PLOTLYENV.BASE_URL=\"https://plot.ly\";Plotly.newPlot(\"e294ddde-e7e4-417d-982d-4e2aee322caf\", [{\"type\": \"bar\", \"x\": [\"a\", \"b\", \"c\", \"d\", \"e\", \"f\", \"g\", \"h\", \"i\", \"j\", \"k\", \"l\", \"m\", \"n\", \"o\", \"p\", \"q\", \"r\", \"s\", \"t\", \"u\", \"v\", \"w\", \"x\", \"y\", \"z\"], \"y\": [0.08167, 0.01492, 0.027819999999999998, 0.04253, 0.127, 0.02228, 0.02015, 0.06094, 0.06966, 0.0015300000000000001, 0.00772, 0.04025, 0.024059999999999998, 0.06749, 0.07507, 0.01929, 0.00095, 0.05987000000000001, 0.06327, 0.09056, 0.02758, 0.00978, 0.0236, 0.0015, 0.01974, 0.00074], \"name\": \"Language\"}], {\"showlegend\": true, \"title\": \"Frequency analysis\", \"xaxis\": {\"tickangle\": -45}, \"yaxis\": {\"title\": \"Letter frequency\", \"tickformat\": \" %\"}, \"barmode\": \"group\"}, {\"showLink\": true, \"linkText\": \"Export to plot.ly\"})});</script>"
      ],
      "text/vnd.plotly.v1+html": [
       "<div id=\"e294ddde-e7e4-417d-982d-4e2aee322caf\" style=\"height: 525px; width: 100%;\" class=\"plotly-graph-div\"></div><script type=\"text/javascript\">require([\"plotly\"], function(Plotly) { window.PLOTLYENV=window.PLOTLYENV || {};window.PLOTLYENV.BASE_URL=\"https://plot.ly\";Plotly.newPlot(\"e294ddde-e7e4-417d-982d-4e2aee322caf\", [{\"type\": \"bar\", \"x\": [\"a\", \"b\", \"c\", \"d\", \"e\", \"f\", \"g\", \"h\", \"i\", \"j\", \"k\", \"l\", \"m\", \"n\", \"o\", \"p\", \"q\", \"r\", \"s\", \"t\", \"u\", \"v\", \"w\", \"x\", \"y\", \"z\"], \"y\": [0.08167, 0.01492, 0.027819999999999998, 0.04253, 0.127, 0.02228, 0.02015, 0.06094, 0.06966, 0.0015300000000000001, 0.00772, 0.04025, 0.024059999999999998, 0.06749, 0.07507, 0.01929, 0.00095, 0.05987000000000001, 0.06327, 0.09056, 0.02758, 0.00978, 0.0236, 0.0015, 0.01974, 0.00074], \"name\": \"Language\"}], {\"showlegend\": true, \"title\": \"Frequency analysis\", \"xaxis\": {\"tickangle\": -45}, \"yaxis\": {\"title\": \"Letter frequency\", \"tickformat\": \" %\"}, \"barmode\": \"group\"}, {\"showLink\": true, \"linkText\": \"Export to plot.ly\"})});</script>"
      ]
     },
     "metadata": {},
     "output_type": "display_data"
    }
   ],
   "source": [
    "fig = graph_objs.Figure(data=data, layout=layout)\n",
    "\n",
    "plotly.iplot(fig)"
   ]
  },
  {
   "cell_type": "markdown",
   "metadata": {
    "extensions": {
     "jupyter_dashboards": {
      "version": 1,
      "views": {
       "grid_default": {
        "col": 0,
        "height": 2,
        "hidden": false,
        "row": 38,
        "width": 12
       },
       "report_default": {
        "hidden": true
       }
      }
     }
    }
   },
   "source": [
    "---"
   ]
  },
  {
   "cell_type": "markdown",
   "metadata": {
    "extensions": {
     "jupyter_dashboards": {
      "version": 1,
      "views": {
       "grid_default": {
        "col": 0,
        "height": 4,
        "hidden": true,
        "row": 32,
        "width": 12
       },
       "report_default": {
        "hidden": false
       }
      }
     }
    }
   },
   "source": [
    "### Key decryption"
   ]
  },
  {
   "cell_type": "code",
   "execution_count": 17,
   "metadata": {
    "extensions": {
     "jupyter_dashboards": {
      "version": 1,
      "views": {
       "grid_default": {
        "hidden": true
       },
       "report_default": {
        "hidden": true
       }
      }
     }
    }
   },
   "outputs": [],
   "source": [
    "widget_rotation = widgets.ToggleButtons(\n",
    "    options=[1, 0],\n",
    "    disabled=False,\n",
    "    tooltips=['Rotation 1: `a` -> `b`', 'Rotation 0: `a` -> `a`']\n",
    ")\n",
    "\n",
    "options = [] if not cipher else analyser.get_key_len_list()\n",
    "\n",
    "widget_key_len = widgets.ToggleButtons(\n",
    "    options=['-'] if not options else options,\n",
    "    disabled=not options,\n",
    "    button_style=''\n",
    ")\n",
    "\n",
    "key = ''"
   ]
  },
  {
   "cell_type": "code",
   "execution_count": 18,
   "metadata": {
    "extensions": {
     "jupyter_dashboards": {
      "version": 1,
      "views": {
       "grid_default": {
        "hidden": true
       },
       "report_default": {
        "hidden": true
       }
      }
     }
    }
   },
   "outputs": [],
   "source": [
    "def _on_len_change(sender):\n",
    "    global key\n",
    "    if _submitted:\n",
    "        key, _ = analyser.get_keys(key_id=widget_key_len.index)\n",
    "        \n",
    "        display(Javascript('IPython.notebook.execute_cells_below()'))\n",
    "    else:\n",
    "        key = ''\n",
    "\n",
    "widget_key_len.observe(_on_len_change, 'value')\n",
    "\n",
    "_on_len_change(None)  # Run for initialization"
   ]
  },
  {
   "cell_type": "code",
   "execution_count": 19,
   "metadata": {
    "extensions": {
     "jupyter_dashboards": {
      "version": 1,
      "views": {
       "grid_default": {
        "col": 0,
        "height": 4,
        "hidden": false,
        "row": 40,
        "width": 12
       },
       "report_default": {
        "hidden": false
       }
      }
     }
    }
   },
   "outputs": [
    {
     "data": {
      "application/vnd.jupyter.widget-view+json": {
       "model_id": "c1bb349b10ed45bc8dae1352264d91f7",
       "version_major": 2,
       "version_minor": 0
      },
      "text/plain": [
       "A Jupyter Widget"
      ]
     },
     "metadata": {},
     "output_type": "display_data"
    },
    {
     "data": {
      "application/vnd.jupyter.widget-view+json": {
       "model_id": "c9024179ace447dea80e16b25e46a79d",
       "version_major": 2,
       "version_minor": 0
      },
      "text/plain": [
       "A Jupyter Widget"
      ]
     },
     "metadata": {},
     "output_type": "display_data"
    }
   ],
   "source": [
    "display(widgets.Label(value=\"Suggested key length:\"))\n",
    "display(widget_key_len)"
   ]
  },
  {
   "cell_type": "code",
   "execution_count": 20,
   "metadata": {
    "extensions": {
     "jupyter_dashboards": {
      "version": 1,
      "views": {
       "grid_default": {
        "hidden": true
       },
       "report_default": {}
      }
     }
    }
   },
   "outputs": [],
   "source": [
    "key_char_list = [c for c in key] or ['-']"
   ]
  },
  {
   "cell_type": "code",
   "execution_count": 21,
   "metadata": {
    "extensions": {
     "jupyter_dashboards": {
      "version": 1,
      "views": {
       "grid_default": {
        "hidden": true
       },
       "report_default": {}
      }
     }
    }
   },
   "outputs": [],
   "source": [
    "toggle_button_layout = Layout(\n",
    "    display='block',\n",
    "    margin='0 auto',\n",
    "    justify_content='center',\n",
    "    min_width='200px',\n",
    ")\n",
    "\n",
    "button_up = widgets.Button(\n",
    "    disabled=False,\n",
    "    icon='angle-up',\n",
    "    layout=toggle_button_layout,\n",
    "    button_style='success'\n",
    ")\n",
    "\n",
    "button_down = widgets.Button(\n",
    "    disabled=False,\n",
    "    icon='angle-down',\n",
    "    layout=toggle_button_layout,\n",
    "    button_style='success'\n",
    ")\n",
    "\n",
    "button_key_layout = Layout(\n",
    "    display=''\n",
    ")\n",
    "\n",
    "button_keys = [widgets.ToggleButton(description=k, tooltip=str(i)) for i, k in enumerate(key_char_list)]\n",
    "button_keys_dict = dict((i, k) for i, k in enumerate(button_keys))\n",
    "\n",
    "box_layout = Layout(\n",
    "    overflow_x='auto',\n",
    "    justify_content='center',\n",
    "    width='80%',\n",
    "    margin='0 auto',\n",
    ")\n",
    "\n",
    "key_box = Box(button_keys, layout=box_layout)\n",
    "_custom_key = ''\n",
    "_use_custom_key = False\n",
    "_toggled_key_index = 0\n",
    "_toggled_key_button = None\n",
    "\n",
    "button_use_custom_key = widgets.Button(\n",
    "    display='block',\n",
    "    description='USE KEY',\n",
    "    tooltip='Use custom key',\n",
    "    disabled=False,\n",
    "    button_style='success',\n",
    "    icon='key',\n",
    ")\n",
    "\n",
    "button_reset_key = widgets.Button(\n",
    "    display='block',\n",
    "    description='RESET KEY',\n",
    "    tooltip='Reset custom key',\n",
    "    disabled=False,\n",
    "    button_style='info',\n",
    "    icon='key',\n",
    ")"
   ]
  },
  {
   "cell_type": "code",
   "execution_count": 22,
   "metadata": {
    "extensions": {
     "jupyter_dashboards": {
      "version": 1,
      "views": {
       "grid_default": {
        "hidden": true
       },
       "report_default": {
        "hidden": true
       }
      }
     }
    }
   },
   "outputs": [],
   "source": [
    "from itertools import cycle\n",
    "from collections import deque\n",
    "\n",
    "alphabet_deque = deque(analyser.alphabet)\n",
    "\n",
    "# Dictionary of possible key variants\n",
    "key_char_vectors = dict()\n",
    "for index, char in enumerate(key_char_list):\n",
    "    if char == '-':\n",
    "        break\n",
    "    key_char_vectors[index] = cycle(analyser.get_shift_vector(index))\n",
    "    next(key_char_vectors[index])  # skip one at init"
   ]
  },
  {
   "cell_type": "code",
   "execution_count": 23,
   "metadata": {
    "extensions": {
     "jupyter_dashboards": {
      "version": 1,
      "views": {
       "grid_default": {
        "hidden": true
       },
       "report_default": {}
      }
     }
    }
   },
   "outputs": [],
   "source": [
    "def _get_clicked_button(buttons: iter):\n",
    "    for index, but in enumerate(buttons):\n",
    "        if but.value is True:\n",
    "            return index, but\n",
    "    # Emergency case\n",
    "    return 0"
   ]
  },
  {
   "cell_type": "code",
   "execution_count": 24,
   "metadata": {
    "extensions": {
     "jupyter_dashboards": {
      "version": 1,
      "views": {
       "grid_default": {
        "hidden": true
       },
       "report_default": {
        "hidden": true
       }
      }
     }
    }
   },
   "outputs": [],
   "source": [
    "def _on_toggle_up(sender):\n",
    "    if not key_char_vectors:\n",
    "        return\n",
    "    index, button = _toggled_key_index, _toggled_key_button\n",
    "    shift = int(next(key_char_vectors[index])) + 1\n",
    "    \n",
    "    alpha_d = alphabet_deque.copy()\n",
    "    deque.rotate(alpha_d, shift)\n",
    "    button.description = alpha_d[0]\n",
    "    \n",
    "def _on_toggle_down(sender):\n",
    "    if not key_char_vectors:\n",
    "        return\n",
    "    index, button = _toggled_key_index, _toggled_key_button\n",
    "    for i in range(4):  # 4 is magic (len of shift vector, stable on 5)\n",
    "        shift = int(next(key_char_vectors[index])) + 1\n",
    "        \n",
    "    alpha_d = alphabet_deque.copy()\n",
    "    deque.rotate(alpha_d, shift)\n",
    "    \n",
    "    button.description = alpha_d[0]\n",
    "    \n",
    "def _on_toggle_key(sender):\n",
    "    global _toggled_key_index, _toggled_key_button\n",
    "    _toggled_key_index, _toggled_key_button = _get_clicked_button(key_box.children) \n",
    "    for index, key_button in enumerate(key_box.children):\n",
    "        if index != _toggled_key_index:\n",
    "            key_button.value = False\n",
    "    \n",
    "def _on_custom_key(sender):\n",
    "    global _use_custom_key, _custom_key\n",
    "    _use_custom_key = True\n",
    "    _custom_key = \"\".join(options)\n",
    "    output_area.value = analyser.decipher(custom_key=_custom_key, rot=widget_rotation.value)\n",
    "    \n",
    "def _on_reset_key(sender):\n",
    "    global key, _custom_key, _use_custom_key\n",
    "    _custom_key = key\n",
    "    _use_custom_key = False\n",
    "    output_area.value = analyser.decipher(custom_key=key, rot=widget_rotation.value)"
   ]
  },
  {
   "cell_type": "code",
   "execution_count": 25,
   "metadata": {
    "extensions": {
     "jupyter_dashboards": {
      "version": 1,
      "views": {
       "grid_default": {
        "hidden": true
       },
       "report_default": {}
      }
     }
    }
   },
   "outputs": [],
   "source": [
    "button_up.on_click(_on_toggle_up)\n",
    "button_down.on_click(_on_toggle_down)\n",
    "\n",
    "button_use_custom_key.on_click(_on_custom_key)\n",
    "button_reset_key.on_click(_on_reset_key)\n",
    "\n",
    "for button in button_keys:\n",
    "    button.observe(_on_toggle_key, names='value')"
   ]
  },
  {
   "cell_type": "markdown",
   "metadata": {
    "extensions": {
     "jupyter_dashboards": {
      "version": 1,
      "views": {
       "grid_default": {
        "hidden": true
       },
       "report_default": {
        "hidden": true
       }
      }
     }
    }
   },
   "source": [
    "#### Decrypted key"
   ]
  },
  {
   "cell_type": "code",
   "execution_count": 26,
   "metadata": {
    "extensions": {
     "jupyter_dashboards": {
      "version": 1,
      "views": {
       "grid_default": {
        "col": 0,
        "height": 9,
        "hidden": true,
        "row": 44,
        "width": 12
       },
       "report_default": {
        "hidden": true
       }
      }
     }
    },
    "scrolled": true
   },
   "outputs": [],
   "source": [
    "button_custom_box = Box([button_use_custom_key, button_reset_key])\n",
    "button_custom_box.layout.display = 'flex'\n",
    "button_custom_box.layout.flex_flow = 'row'\n",
    "button_custom_box.layout.justify_content = 'flex-end'"
   ]
  },
  {
   "cell_type": "code",
   "execution_count": 27,
   "metadata": {
    "extensions": {
     "jupyter_dashboards": {
      "version": 1,
      "views": {
       "grid_default": {
        "col": 0,
        "height": 8,
        "hidden": false,
        "row": 44,
        "width": 12
       },
       "report_default": {
        "hidden": true
       }
      }
     }
    },
    "scrolled": false
   },
   "outputs": [
    {
     "data": {
      "application/vnd.jupyter.widget-view+json": {
       "model_id": "5eb662fca52e41b0ac5081035732aef6",
       "version_major": 2,
       "version_minor": 0
      },
      "text/plain": [
       "A Jupyter Widget"
      ]
     },
     "metadata": {},
     "output_type": "display_data"
    },
    {
     "data": {
      "application/vnd.jupyter.widget-view+json": {
       "model_id": "82e0d7de8f2544b7a3117465d3659735",
       "version_major": 2,
       "version_minor": 0
      },
      "text/plain": [
       "A Jupyter Widget"
      ]
     },
     "metadata": {},
     "output_type": "display_data"
    },
    {
     "data": {
      "application/vnd.jupyter.widget-view+json": {
       "model_id": "4dd2c11252de4be599e1be7bbd037d65",
       "version_major": 2,
       "version_minor": 0
      },
      "text/plain": [
       "A Jupyter Widget"
      ]
     },
     "metadata": {},
     "output_type": "display_data"
    },
    {
     "data": {
      "application/vnd.jupyter.widget-view+json": {
       "model_id": "5302d431441e40cba26872fcacfa1635",
       "version_major": 2,
       "version_minor": 0
      },
      "text/plain": [
       "A Jupyter Widget"
      ]
     },
     "metadata": {},
     "output_type": "display_data"
    },
    {
     "data": {
      "application/vnd.jupyter.widget-view+json": {
       "model_id": "c765816f11344909af88fafbeed52dbc",
       "version_major": 2,
       "version_minor": 0
      },
      "text/plain": [
       "A Jupyter Widget"
      ]
     },
     "metadata": {},
     "output_type": "display_data"
    }
   ],
   "source": [
    "display(widgets.Label(value=\"Decrypted key:\"))\n",
    "display(button_up)\n",
    "display(key_box)\n",
    "display(button_down)\n",
    "display(button_custom_box)"
   ]
  },
  {
   "cell_type": "markdown",
   "metadata": {
    "extensions": {
     "jupyter_dashboards": {
      "version": 1,
      "views": {
       "grid_default": {
        "hidden": true
       },
       "report_default": {
        "hidden": true
       }
      }
     }
    }
   },
   "source": [
    "#### Corresponding shift"
   ]
  },
  {
   "cell_type": "code",
   "execution_count": 28,
   "metadata": {
    "extensions": {
     "jupyter_dashboards": {
      "version": 1,
      "views": {
       "grid_default": {
        "hidden": true
       },
       "report_default": {
        "hidden": true
       }
      }
     }
    }
   },
   "outputs": [],
   "source": [
    "# TODO print corresponding shift plot?"
   ]
  },
  {
   "cell_type": "markdown",
   "metadata": {
    "extensions": {
     "jupyter_dashboards": {
      "version": 1,
      "views": {
       "grid_default": {
        "col": 0,
        "height": 4,
        "hidden": true,
        "row": 39,
        "width": 12
       },
       "report_default": {
        "hidden": false
       }
      }
     }
    }
   },
   "source": [
    "---\n",
    "### Text decryption"
   ]
  },
  {
   "cell_type": "code",
   "execution_count": 29,
   "metadata": {
    "extensions": {
     "jupyter_dashboards": {
      "version": 1,
      "views": {
       "grid_default": {
        "hidden": true
       },
       "report_default": {}
      }
     }
    }
   },
   "outputs": [],
   "source": [
    "def _on_rot_change(sender):\n",
    "    use_key = _custom_key if _use_custom_key else key\n",
    "    output_area.value = analyser.decipher(custom_key=use_key, rot=widget_rotation.value)"
   ]
  },
  {
   "cell_type": "code",
   "execution_count": 30,
   "metadata": {
    "extensions": {
     "jupyter_dashboards": {
      "version": 1,
      "views": {
       "grid_default": {
        "hidden": true
       },
       "report_default": {}
      }
     }
    }
   },
   "outputs": [],
   "source": [
    "widget_rotation.observe(_on_rot_change, 'value')"
   ]
  },
  {
   "cell_type": "markdown",
   "metadata": {
    "extensions": {
     "jupyter_dashboards": {
      "version": 1,
      "views": {
       "grid_default": {
        "col": 0,
        "height": 2,
        "hidden": false,
        "row": 52,
        "width": 12
       },
       "report_default": {}
      }
     }
    }
   },
   "source": [
    "---"
   ]
  },
  {
   "cell_type": "code",
   "execution_count": 31,
   "metadata": {
    "extensions": {
     "jupyter_dashboards": {
      "version": 1,
      "views": {
       "grid_default": {
        "col": 0,
        "height": 4,
        "hidden": false,
        "row": 54,
        "width": 12
       },
       "report_default": {
        "hidden": false
       }
      }
     }
    }
   },
   "outputs": [
    {
     "data": {
      "application/vnd.jupyter.widget-view+json": {
       "model_id": "298611ceceaf4ddabb18f45890af35eb",
       "version_major": 2,
       "version_minor": 0
      },
      "text/plain": [
       "A Jupyter Widget"
      ]
     },
     "metadata": {},
     "output_type": "display_data"
    },
    {
     "data": {
      "application/vnd.jupyter.widget-view+json": {
       "model_id": "a204ce90c17b4d8a84ff04106a49866d",
       "version_major": 2,
       "version_minor": 0
      },
      "text/plain": [
       "A Jupyter Widget"
      ]
     },
     "metadata": {},
     "output_type": "display_data"
    }
   ],
   "source": [
    "display(widgets.Label(value=\"Select rotation:\"))\n",
    "display(widget_rotation)"
   ]
  },
  {
   "cell_type": "code",
   "execution_count": 32,
   "metadata": {
    "extensions": {
     "jupyter_dashboards": {
      "version": 1,
      "views": {
       "grid_default": {
        "hidden": true
       },
       "report_default": {
        "hidden": true
       }
      }
     }
    }
   },
   "outputs": [],
   "source": [
    "result = ''\n",
    "if _submitted:\n",
    "    use_key = _custom_key if _use_custom_key else key\n",
    "    result = analyser.decipher(custom_key=use_key, rot=widget_rotation.value)\n",
    "    \n",
    "output_area.value = result"
   ]
  },
  {
   "cell_type": "code",
   "execution_count": 33,
   "metadata": {
    "extensions": {
     "jupyter_dashboards": {
      "version": 1,
      "views": {
       "grid_default": {
        "col": 0,
        "height": 9,
        "hidden": false,
        "row": 58,
        "width": 12
       },
       "report_default": {}
      }
     }
    }
   },
   "outputs": [
    {
     "data": {
      "application/vnd.jupyter.widget-view+json": {
       "model_id": "885056985b224d32962109adf5bcafc3",
       "version_major": 2,
       "version_minor": 0
      },
      "text/plain": [
       "A Jupyter Widget"
      ]
     },
     "metadata": {},
     "output_type": "display_data"
    },
    {
     "data": {
      "application/vnd.jupyter.widget-view+json": {
       "model_id": "a8d4e25f6954487ca2034c114adca64c",
       "version_major": 2,
       "version_minor": 0
      },
      "text/plain": [
       "A Jupyter Widget"
      ]
     },
     "metadata": {},
     "output_type": "display_data"
    }
   ],
   "source": [
    "display(widgets.Label(value=\"Decrypted text:\"))\n",
    "display(_create_text_box(output_area))"
   ]
  }
 ],
 "metadata": {
  "extensions": {
   "jupyter_dashboards": {
    "activeView": "grid_default",
    "version": 1,
    "views": {
     "grid_default": {
      "cellMargin": 10,
      "defaultCellHeight": 20,
      "maxColumns": 12,
      "name": "grid",
      "type": "grid"
     },
     "report_default": {
      "name": "report",
      "type": "report"
     }
    }
   }
  },
  "kernelspec": {
   "display_name": "Python 3",
   "language": "python",
   "name": "python3"
  },
  "language_info": {
   "codemirror_mode": {
    "name": "ipython",
    "version": 3
   },
   "file_extension": ".py",
   "mimetype": "text/x-python",
   "name": "python",
   "nbconvert_exporter": "python",
   "pygments_lexer": "ipython3",
   "version": "3.6.3"
  }
 },
 "nbformat": 4,
 "nbformat_minor": 1
}
