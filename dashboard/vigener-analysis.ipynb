{
 "cells": [
  {
   "cell_type": "markdown",
   "metadata": {
    "extensions": {
     "jupyter_dashboards": {
      "version": 1,
      "views": {
       "grid_default": {
        "col": 0,
        "height": 3,
        "hidden": false,
        "row": 0,
        "width": 12
       },
       "report_default": {
        "hidden": false
       }
      }
     }
    }
   },
   "source": [
    "<h1><center> Vigenér cipher decryption </center><h1>"
   ]
  },
  {
   "cell_type": "markdown",
   "metadata": {
    "extensions": {
     "jupyter_dashboards": {
      "version": 1,
      "views": {
       "grid_default": {
        "col": 0,
        "height": 2,
        "hidden": false,
        "row": 13,
        "width": 12
       },
       "report_default": {
        "hidden": false
       }
      }
     }
    }
   },
   "source": [
    "---"
   ]
  },
  {
   "cell_type": "code",
   "execution_count": null,
   "metadata": {
    "extensions": {
     "jupyter_dashboards": {
      "version": 1,
      "views": {
       "grid_default": {
        "hidden": true
       },
       "report_default": {
        "hidden": true
       }
      }
     }
    }
   },
   "outputs": [],
   "source": [
    "import os\n",
    "import sys\n",
    "\n",
    "__module_path = os.path.abspath(os.path.join('..'))\n",
    "if __module_path not in sys.path:\n",
    "    sys.path.append(__module_path)\n",
    "\n",
    "import cryptoanalysis\n",
    "\n",
    "import numpy as np\n",
    "\n",
    "from IPython.display import Javascript, HTML\n",
    "\n",
    "from plotly import tools, graph_objs, __version__\n",
    "\n",
    "# offline plotly\n",
    "import plotly.offline as plotly\n",
    "\n",
    "# online plotly\n",
    "# import plotly.plotly as plotly\n",
    "\n",
    "from ipywidgets import Layout, widgets, Box, HBox, VBox, interactive_output"
   ]
  },
  {
   "cell_type": "code",
   "execution_count": null,
   "metadata": {
    "extensions": {
     "jupyter_dashboards": {
      "version": 1,
      "views": {
       "grid_default": {
        "hidden": true
       },
       "report_default": {
        "hidden": true
       }
      }
     }
    }
   },
   "outputs": [],
   "source": [
    "%matplotlib inline\n",
    "%autosave 0"
   ]
  },
  {
   "cell_type": "code",
   "execution_count": null,
   "metadata": {
    "extensions": {
     "jupyter_dashboards": {
      "version": 1,
      "views": {
       "grid_default": {
        "hidden": true
       },
       "report_default": {
        "hidden": false
       }
      }
     }
    }
   },
   "outputs": [],
   "source": [
    "plotly_version = __version__\n",
    "\n",
    "# For online connection:\n",
    "# tools.set_credentials_file(username='CermakM', api_key='q2yoGYw052dyHMd8ztqx')\n",
    "# tools.set_config_file(world_readable=False, sharing='public')\n",
    "\n",
    "# For offline connection:\n",
    "plotly.init_notebook_mode(connected=True)"
   ]
  },
  {
   "cell_type": "code",
   "execution_count": null,
   "metadata": {
    "extensions": {
     "jupyter_dashboards": {
      "version": 1,
      "views": {
       "grid_default": {
        "hidden": true
       },
       "report_default": {
        "hidden": true
       }
      }
     }
    }
   },
   "outputs": [],
   "source": [
    "_submitted = False\n",
    "_reset = True\n",
    "\n",
    "cipher = ''\n",
    "decrypted_text = ''\n",
    "\n",
    "analyser = cryptoanalysis.decryption.Analyser(lang='en')"
   ]
  },
  {
   "cell_type": "markdown",
   "metadata": {
    "extensions": {
     "jupyter_dashboards": {
      "version": 1,
      "views": {
       "grid_default": {
        "col": 0,
        "height": 2,
        "hidden": false,
        "row": 3,
        "width": 4
       },
       "report_default": {}
      }
     }
    }
   },
   "source": [
    "### History"
   ]
  },
  {
   "cell_type": "markdown",
   "metadata": {
    "extensions": {
     "jupyter_dashboards": {
      "version": 1,
      "views": {
       "grid_default": {
        "col": 0,
        "height": 8,
        "hidden": false,
        "row": 5,
        "width": 12
       },
       "report_default": {}
      }
     }
    }
   },
   "source": [
    "<p align=\"justify\">\n",
    "The __Vigenère cipher__ (French pronunciation: _viʒnɛːʁ_) is a method of encrypting alphabetic text by using a series of interwoven Caesar ciphers based on the letters of a keyword. It is a form of polyalphabetic substitution.<sup>[1][source]</sup>\n",
    "    \n",
    "Though the cipher is easy to understand and implement, for three centuries it resisted all attempts to break it; this earned it the description le chiffre indéchiffrable (French for 'the indecipherable cipher'). Many people have tried to implement encryption schemes that are essentially Vigenère ciphers. Friedrich Kasiski was the first to publish a general method of deciphering a Vigenère cipher in 1863.\n",
    "\n",
    "The Vigenère cipher was originally described by Giovan Battista Bellaso in his 1553 book La cifra del. Sig. Giovan Battista Bellaso; however, the scheme was later misattributed to Blaise de Vigenère in the 19th century, and thus acquired its present name.\n",
    "</p>\n",
    "[source]: https://en.wikipedia.org/wiki/Vigen%C3%A8re_cipher"
   ]
  },
  {
   "cell_type": "markdown",
   "metadata": {
    "extensions": {
     "jupyter_dashboards": {
      "version": 1,
      "views": {
       "grid_default": {
        "col": 0,
        "height": 4,
        "hidden": false,
        "row": 15,
        "width": 12
       },
       "report_default": {
        "hidden": true
       }
      }
     }
    }
   },
   "source": [
    "### Encrypted text"
   ]
  },
  {
   "cell_type": "code",
   "execution_count": null,
   "metadata": {
    "extensions": {
     "jupyter_dashboards": {
      "version": 1,
      "views": {
       "grid_default": {
        "hidden": true
       },
       "report_default": {}
      }
     }
    }
   },
   "outputs": [],
   "source": [
    "def _create_text_box(*args, **kwargs):\n",
    "    for widget in args:\n",
    "        widget.layout=Layout(width='100%', height='200px')\n",
    "    box = Box(args, **kwargs)\n",
    "    box.layout.display = 'flex'\n",
    "    box.layout.align_items = 'stretch'\n",
    "    box.layout.min_height = '230px'\n",
    "    box.layout.flex_direction = 'row'\n",
    "    return box"
   ]
  },
  {
   "cell_type": "code",
   "execution_count": null,
   "metadata": {
    "extensions": {
     "jupyter_dashboards": {
      "version": 1,
      "views": {
       "grid_default": {
        "hidden": true
       },
       "report_default": {
        "hidden": true
       }
      }
     }
    }
   },
   "outputs": [],
   "source": [
    "input_area = widgets.Textarea(\n",
    "    placeholder='Encrypted text',\n",
    ")  \n",
    "\n",
    "output_area = widgets.Textarea(\n",
    "    placeholder='Decrypted text',\n",
    "    disabled=True\n",
    ")\n",
    "\n",
    "input_box = _create_text_box(input_area)\n",
    "output_box = _create_text_box(output_area)"
   ]
  },
  {
   "cell_type": "code",
   "execution_count": null,
   "metadata": {
    "extensions": {
     "jupyter_dashboards": {
      "version": 1,
      "views": {
       "grid_default": {
        "hidden": true
       },
       "report_default": {
        "hidden": true
       }
      }
     }
    }
   },
   "outputs": [],
   "source": [
    "submit_input_button = widgets.Button(\n",
    "    description='SUBMIT',\n",
    "    disabled=False,\n",
    "    button_style='success',\n",
    "    icon='check'\n",
    ")\n",
    "\n",
    "reset_input_button = widgets.Button(\n",
    "    description='RESET',\n",
    "    disabled=False,\n",
    "    button_style='danger'\n",
    ")"
   ]
  },
  {
   "cell_type": "code",
   "execution_count": null,
   "metadata": {
    "extensions": {
     "jupyter_dashboards": {
      "version": 1,
      "views": {
       "grid_default": {
        "hidden": true
       },
       "report_default": {
        "hidden": true
       }
      }
     }
    }
   },
   "outputs": [],
   "source": [
    "def _on_submit(sender):\n",
    "    global analyser, cipher, _submitted, _reset\n",
    "            \n",
    "    cipher = input_area.value.lower()\n",
    "    \n",
    "    if not cipher:\n",
    "        return\n",
    "    \n",
    "    _reset = False\n",
    "\n",
    "    analyser = cryptoanalysis.decryption.Analyser(cipher=cipher, lang='en')\n",
    "    \n",
    "    display(Javascript('IPython.notebook.execute_cells_below()'))\n",
    "    \n",
    "    if not _submitted:\n",
    "#         Javascript('$.notify(\"Cipher submitted\");')\n",
    "        \n",
    "        _submitted = True\n",
    "    \n",
    "def _on_reset(sender):\n",
    "    global analyser, cipher, _submitted\n",
    "    \n",
    "    _submitted = False\n",
    "    \n",
    "    cipher = ''\n",
    "    analyser = cryptoanalysis.decryption.Analyser(lang='en')\n",
    "    input_area.value = ''\n",
    "    \n",
    "    display(Javascript('IPython.notebook.execute_cells_below()'))\n",
    "    \n",
    "    if not _reset:\n",
    "#         Javascript('$.notify(\"Analyser has been reset\")')\n",
    "        \n",
    "        _reset = True"
   ]
  },
  {
   "cell_type": "code",
   "execution_count": null,
   "metadata": {
    "extensions": {
     "jupyter_dashboards": {
      "version": 1,
      "views": {
       "grid_default": {
        "hidden": true
       },
       "report_default": {
        "hidden": true
       }
      }
     }
    }
   },
   "outputs": [],
   "source": [
    "submit_input_button.on_click(_on_submit)\n",
    "reset_input_button.on_click(_on_reset)"
   ]
  },
  {
   "cell_type": "code",
   "execution_count": null,
   "metadata": {
    "extensions": {
     "jupyter_dashboards": {
      "version": 1,
      "views": {
       "grid_default": {
        "hidden": true
       },
       "report_default": {}
      }
     }
    }
   },
   "outputs": [],
   "source": [
    "submit_input_button.layout.margin = '2px 2px 2px auto'\n",
    "reset_input_button.layout.margin = '2px 2px 2px 5px'\n",
    "\n",
    "submit_box = HBox([submit_input_button, reset_input_button])\n",
    "\n",
    "submit_box.layout.display = 'flex'\n",
    "submit_box.layout.flex_flow = 'row'\n",
    "submit_box.layout.align_items = 'flex-end'"
   ]
  },
  {
   "cell_type": "code",
   "execution_count": null,
   "metadata": {
    "extensions": {
     "jupyter_dashboards": {
      "version": 1,
      "views": {
       "grid_default": {
        "hidden": true
       },
       "report_default": {}
      }
     }
    }
   },
   "outputs": [],
   "source": [
    "button_samples = widgets.ToggleButtons(\n",
    "    options=['Sample 1', 'Sample 2', 'Sample 3'],\n",
    "    description='Load sample:',\n",
    "    disabled=False,\n",
    "    button_style='',\n",
    "    tooltips=['Caesar cipher', 'Vigener cipher - short', 'Vigener cipher - long']\n",
    ")\n",
    "\n",
    "button_load = widgets.Button(\n",
    "    description='LOAD',\n",
    "    disabled=False,\n",
    "    button_style='success',\n",
    "    icon='upload'\n",
    ")\n",
    "\n",
    "samples = ['samples/TIKcipher1.txt', 'samples/TIKcipher2a.txt', 'samples/TIKcipher2b.txt']\n",
    "\n",
    "def _on_sample_load(sender):\n",
    "    sample_to_read = samples[button_samples.index]\n",
    "    with open(os.path.join(__module_path, sample_to_read)) as s:\n",
    "        input_area.value = s.read()\n",
    "        \n",
    "button_load.on_click(_on_sample_load)"
   ]
  },
  {
   "cell_type": "code",
   "execution_count": null,
   "metadata": {
    "extensions": {
     "jupyter_dashboards": {
      "version": 1,
      "views": {
       "grid_default": {
        "hidden": true
       },
       "report_default": {}
      }
     }
    }
   },
   "outputs": [],
   "source": [
    "def _on_input(sender):\n",
    "    pass\n",
    "    \n",
    "input_area.observe(_on_input, names='value')"
   ]
  },
  {
   "cell_type": "code",
   "execution_count": null,
   "metadata": {
    "extensions": {
     "jupyter_dashboards": {
      "version": 1,
      "views": {
       "grid_default": {
        "col": 0,
        "height": 3,
        "hidden": false,
        "row": 19,
        "width": 12
       },
       "report_default": {}
      }
     }
    }
   },
   "outputs": [],
   "source": [
    "display(HBox([button_samples, button_load]))"
   ]
  },
  {
   "cell_type": "code",
   "execution_count": null,
   "metadata": {
    "extensions": {
     "jupyter_dashboards": {
      "version": 1,
      "views": {
       "grid_default": {
        "col": 0,
        "height": 12,
        "hidden": false,
        "row": 22,
        "width": 12
       },
       "report_default": {
        "hidden": true
       }
      }
     }
    },
    "scrolled": true
   },
   "outputs": [],
   "source": [
    "display(VBox([input_box, submit_box]))"
   ]
  },
  {
   "cell_type": "markdown",
   "metadata": {
    "extensions": {
     "jupyter_dashboards": {
      "version": 1,
      "views": {
       "grid_default": {
        "col": 0,
        "height": 4,
        "hidden": true,
        "row": 36,
        "width": 12
       },
       "report_default": {
        "hidden": false
       }
      }
     }
    }
   },
   "source": [
    "---\n",
    "### Frequency Analysis"
   ]
  },
  {
   "cell_type": "code",
   "execution_count": null,
   "metadata": {
    "extensions": {
     "jupyter_dashboards": {
      "version": 1,
      "views": {
       "grid_default": {
        "hidden": true
       },
       "report_default": {
        "hidden": true
       }
      }
     }
    }
   },
   "outputs": [],
   "source": [
    "default_lang_trace = graph_objs.Bar(\n",
    "    x=analyser.alphabet,\n",
    "    y=analyser.letter_frequency,\n",
    "    name='Language'\n",
    ")\n",
    "\n",
    "if cipher:\n",
    "    cipher_dict = analyser.get_char_frequency()\n",
    "    cipher_trace = graph_objs.Bar(\n",
    "        x=list(cipher_dict.keys()),\n",
    "        y=list(cipher_dict.values()),\n",
    "        name='Cipher'\n",
    "    )\n",
    "    data = [default_lang_trace, cipher_trace]\n",
    "\n",
    "else:\n",
    "    data = [default_lang_trace]\n",
    "    \n",
    "layout = graph_objs.Layout(\n",
    "    showlegend=True,\n",
    "    title='Frequency analysis',\n",
    "    xaxis=dict(tickangle=-45),\n",
    "    yaxis=dict(\n",
    "        title='Letter frequency',\n",
    "        tickformat=' %'),\n",
    "    barmode='group'\n",
    ")\n"
   ]
  },
  {
   "cell_type": "markdown",
   "metadata": {
    "extensions": {
     "jupyter_dashboards": {
      "version": 1,
      "views": {
       "grid_default": {
        "col": 0,
        "height": 2,
        "hidden": false,
        "row": 34,
        "width": 12
       },
       "report_default": {
        "hidden": true
       }
      }
     }
    }
   },
   "source": [
    "---"
   ]
  },
  {
   "cell_type": "code",
   "execution_count": null,
   "metadata": {
    "extensions": {
     "jupyter_dashboards": {
      "version": 1,
      "views": {
       "grid_default": {
        "col": 0,
        "height": 19,
        "hidden": false,
        "row": 36,
        "width": null
       },
       "report_default": {
        "hidden": false
       }
      }
     }
    }
   },
   "outputs": [],
   "source": [
    "fig = graph_objs.Figure(data=data, layout=layout)\n",
    "\n",
    "plotly.iplot(fig, filename='cipher-plot', show_link=False)"
   ]
  },
  {
   "cell_type": "markdown",
   "metadata": {
    "extensions": {
     "jupyter_dashboards": {
      "version": 1,
      "views": {
       "grid_default": {
        "col": 0,
        "height": 2,
        "hidden": false,
        "row": 55,
        "width": 12
       },
       "report_default": {
        "hidden": true
       }
      }
     }
    }
   },
   "source": [
    "---"
   ]
  },
  {
   "cell_type": "markdown",
   "metadata": {
    "extensions": {
     "jupyter_dashboards": {
      "version": 1,
      "views": {
       "grid_default": {
        "col": 0,
        "height": 2,
        "hidden": false,
        "row": 57,
        "width": 12
       },
       "report_default": {
        "hidden": false
       }
      }
     }
    }
   },
   "source": [
    "### Key decryption"
   ]
  },
  {
   "cell_type": "code",
   "execution_count": null,
   "metadata": {
    "extensions": {
     "jupyter_dashboards": {
      "version": 1,
      "views": {
       "grid_default": {
        "hidden": true
       },
       "report_default": {}
      }
     }
    }
   },
   "outputs": [],
   "source": [
    "%%HTML\n",
    "<style>\n",
    ".MathJax_Display {\n",
    "    text-align: center !important;\n",
    "}\n",
    "</style>"
   ]
  },
  {
   "cell_type": "markdown",
   "metadata": {
    "extensions": {
     "jupyter_dashboards": {
      "version": 1,
      "views": {
       "grid_default": {
        "col": 0,
        "height": 22,
        "hidden": false,
        "row": 59,
        "width": null
       },
       "report_default": {}
      }
     }
    }
   },
   "source": [
    "<h4>1) Key length analysis using Kasiski's examination method</h4><br>\n",
    "The Kasiski examination involves searching for strings of characters that are repeated in the ciphertext. The strings should be three characters long or more for the examination to be successful. Then, the distances between consecutive occurrences of the strings are likely to be multiples of the length of the keyword.~<sup>[1][source]</sup>\n",
    "    \n",
    "[source]: https://en.wikipedia.org/wiki/Vigen%C3%A8re_cipher\n",
    "    \n",
    "Our approach ivolves:\n",
    "<br>\n",
    "   - Shift matrix of dimensions $l \\times l$ where $l$ is length of the cipher\n",
    "     Each row consists of a cipher shifted by one\n",
    "   - Lay shift matrix over its duplicate and count coincident letters\n",
    "   - Let amount of coincident letters for each row be a coincidence value\n",
    "   - Coincidence index is distance of the highest coincidence values from the original cipher string\n",
    "\n",
    "<h4>2) Key analysis</h4><br>\n",
    "The goal of this part is to find an ideal correlation of $i$th cipher character frequency with frequency of the alphabet (english in our case), where $i$ is a position of key character.\n",
    "This process has to be repeated for each key character:\n",
    "<br>\n",
    "   - Vector of character frequency of dimension $n$, where $n$ is the size of the alphabet \n",
    "   - Shift matrix $\\mathbf{S}$ of dimensions $n \\times n$\n",
    "     Each row consits of a cipher character frequency shifted by one\n",
    "   - Perform matrix multiplication of $\\mathbf{S}$ and $\\mathbf{L}$, where $\\mathbf{L}$ is a vector of language frequency\n",
    "     Result is a vector of frequency scores for each shift $\\mathbf{Y}$\n",
    "     \n",
    "    $$ \\mathbf{S} \\times \\mathbf{L}^T = \\mathbf{Y}^T $$\n",
    "    \n",
    "    \\begin{equation*}\n",
    "    \\begin{bmatrix}\n",
    "    s_1 &  s_2 & s_3 & \\dots & s_n \\\\\n",
    "    s_2 &  s_3 & s_4 & \\dots & s_n \\\\\n",
    "    s_3 &  s_4 & s_5 & \\dots & s_n \\\\\n",
    "    s_4 &  s_5 & s_6 & \\dots & s_n \\\\\n",
    "    \\end{bmatrix}~ \\times ~ \\begin{bmatrix} \n",
    "    l_1 \\\\\n",
    "    l_2 \\\\\n",
    "    \\vdots \\\\\n",
    "    l_n \\\\\n",
    "    \\end{bmatrix}~ = ~ \\begin{bmatrix}\n",
    "    y_1 \\\\\n",
    "    y_2 \\\\\n",
    "    \\vdots \\\\\n",
    "    y_n \\\\\n",
    "    \\end{bmatrix}\n",
    "    \\end{equation*} \n",
    "    \n",
    "<h4>3) Reviewing shift and considering rotation</h4><br>\n",
    "Correctness of the max value of shift vector depends immensly on the length of the ciphered text provided for the analysis. Hence the maximum value might not be the correct one.\n",
    "Also, rotation might have an effect on the resulting shift, it is necessary that the corresponding shift was reviewed before submitting."
   ]
  },
  {
   "cell_type": "markdown",
   "metadata": {
    "extensions": {
     "jupyter_dashboards": {
      "version": 1,
      "views": {
       "grid_default": {
        "col": 0,
        "height": 2,
        "hidden": false,
        "row": 81,
        "width": 12
       },
       "report_default": {}
      }
     }
    }
   },
   "source": [
    "---"
   ]
  },
  {
   "cell_type": "code",
   "execution_count": null,
   "metadata": {
    "extensions": {
     "jupyter_dashboards": {
      "version": 1,
      "views": {
       "grid_default": {
        "hidden": true
       },
       "report_default": {
        "hidden": true
       }
      }
     }
    }
   },
   "outputs": [],
   "source": [
    "widget_rotation = widgets.ToggleButtons(\n",
    "    options=[1, 0],\n",
    "    disabled=False,\n",
    "    tooltips=['Rotation 0: `a` -> `a`', 'Rotation 1: `a` -> `b`']\n",
    ")\n",
    "widget_rotation.index = 1\n",
    "\n",
    "options = [] if not cipher else analyser.get_key_len_list()\n",
    "\n",
    "widget_key_len = widgets.ToggleButtons(\n",
    "    options=['-'] if not options else options,\n",
    "    disabled=not options,\n",
    "    button_style=''\n",
    ")\n",
    "\n",
    "key = ''"
   ]
  },
  {
   "cell_type": "code",
   "execution_count": null,
   "metadata": {
    "extensions": {
     "jupyter_dashboards": {
      "version": 1,
      "views": {
       "grid_default": {
        "hidden": true
       },
       "report_default": {
        "hidden": true
       }
      }
     }
    }
   },
   "outputs": [],
   "source": [
    "def _on_rot_change(sender):\n",
    "    global key\n",
    "    if _submitted:\n",
    "        key, _ = analyser.get_keys(key_id=widget_key_len.index, rot=widget_rotation.value)\n",
    "        \n",
    "        display(Javascript('IPython.notebook.execute_cells_below()'))\n",
    "    else:\n",
    "        key = ''\n",
    "\n",
    "    display(Javascript('IPython.notebook.execute_cells_below()'))"
   ]
  },
  {
   "cell_type": "code",
   "execution_count": null,
   "metadata": {
    "extensions": {
     "jupyter_dashboards": {
      "version": 1,
      "views": {
       "grid_default": {
        "hidden": true
       },
       "report_default": {
        "hidden": true
       }
      }
     }
    }
   },
   "outputs": [],
   "source": [
    "def _on_len_change(sender):\n",
    "    global key\n",
    "    if _submitted:\n",
    "        key, _ = analyser.get_keys(key_id=widget_key_len.index, rot=widget_rotation.value)\n",
    "        \n",
    "        display(Javascript('IPython.notebook.execute_cells_below()'))\n",
    "    else:\n",
    "        key = ''"
   ]
  },
  {
   "cell_type": "code",
   "execution_count": null,
   "metadata": {
    "extensions": {
     "jupyter_dashboards": {
      "version": 1,
      "views": {
       "grid_default": {
        "hidden": true
       },
       "report_default": {
        "hidden": true
       }
      }
     }
    }
   },
   "outputs": [],
   "source": [
    "if not _submitted:\n",
    "    _on_len_change(None)  # Run for initialization"
   ]
  },
  {
   "cell_type": "code",
   "execution_count": null,
   "metadata": {
    "extensions": {
     "jupyter_dashboards": {
      "version": 1,
      "views": {
       "grid_default": {
        "hidden": true
       },
       "report_default": {
        "hidden": true
       }
      }
     }
    }
   },
   "outputs": [],
   "source": [
    "widget_key_len.observe(_on_len_change, 'index')\n",
    "widget_rotation.observe(_on_rot_change, 'index')"
   ]
  },
  {
   "cell_type": "code",
   "execution_count": null,
   "metadata": {
    "extensions": {
     "jupyter_dashboards": {
      "version": 1,
      "views": {
       "grid_default": {
        "col": 0,
        "height": 4,
        "hidden": false,
        "row": 83,
        "width": 12
       },
       "report_default": {
        "hidden": true
       }
      }
     }
    }
   },
   "outputs": [],
   "source": [
    "display(widgets.Label(value=\"Select rotation:\"))\n",
    "display(widget_rotation)"
   ]
  },
  {
   "cell_type": "code",
   "execution_count": null,
   "metadata": {
    "extensions": {
     "jupyter_dashboards": {
      "version": 1,
      "views": {
       "grid_default": {
        "col": 0,
        "height": 4,
        "hidden": false,
        "row": 87,
        "width": 12
       },
       "report_default": {
        "hidden": false
       }
      }
     }
    }
   },
   "outputs": [],
   "source": [
    "display(widgets.Label(value=\"Select key length:\"))\n",
    "display(widget_key_len)"
   ]
  },
  {
   "cell_type": "code",
   "execution_count": null,
   "metadata": {
    "extensions": {
     "jupyter_dashboards": {
      "version": 1,
      "views": {
       "grid_default": {
        "hidden": true
       },
       "report_default": {}
      }
     }
    }
   },
   "outputs": [],
   "source": [
    "toggle_button_layout = Layout(\n",
    "    display='block',\n",
    "    margin='0 auto',\n",
    "    justify_content='center',\n",
    "    min_width='200px',\n",
    ")\n",
    "\n",
    "button_up = widgets.Button(\n",
    "    disabled=False,\n",
    "    icon='angle-up',\n",
    "    layout=toggle_button_layout,\n",
    "    button_style='success'\n",
    ")\n",
    "\n",
    "button_down = widgets.Button(\n",
    "    disabled=False,\n",
    "    icon='angle-down',\n",
    "    layout=toggle_button_layout,\n",
    "    button_style='success'\n",
    ")\n",
    "\n",
    "checkbox_use_suggested_keys = widgets.ToggleButton(\n",
    "    value=True,\n",
    "    disabled=False,\n",
    "    icon='check',\n",
    "    description='Suggested only',\n",
    "    tooltip='Use only suggested key characters instead of whole alphabet'\n",
    ")"
   ]
  },
  {
   "cell_type": "code",
   "execution_count": null,
   "metadata": {
    "extensions": {
     "jupyter_dashboards": {
      "version": 1,
      "views": {
       "grid_default": {
        "hidden": true
       },
       "report_default": {}
      }
     }
    }
   },
   "outputs": [],
   "source": [
    "key_char_list = [c for c in key] or ['-']"
   ]
  },
  {
   "cell_type": "code",
   "execution_count": null,
   "metadata": {
    "extensions": {
     "jupyter_dashboards": {
      "version": 1,
      "views": {
       "grid_default": {
        "hidden": true
       },
       "report_default": {}
      }
     }
    }
   },
   "outputs": [],
   "source": [
    "_custom_key = ''\n",
    "_use_custom_key = False\n",
    "_toggled_key_index = 0\n",
    "_toggled_key_button = None"
   ]
  },
  {
   "cell_type": "code",
   "execution_count": null,
   "metadata": {
    "extensions": {
     "jupyter_dashboards": {
      "version": 1,
      "views": {
       "grid_default": {
        "hidden": true
       },
       "report_default": {
        "hidden": true
       }
      }
     }
    }
   },
   "outputs": [],
   "source": [
    "key_char_list = [c for c in key] or ['-']"
   ]
  },
  {
   "cell_type": "code",
   "execution_count": null,
   "metadata": {
    "extensions": {
     "jupyter_dashboards": {
      "version": 1,
      "views": {
       "grid_default": {
        "hidden": true
       },
       "report_default": {}
      }
     }
    }
   },
   "outputs": [],
   "source": [
    "button_keys = [widgets.ToggleButton(description=k, tooltip=str(i)) for i, k in enumerate(key_char_list)]\n",
    "button_keys_dict = dict((i, k) for i, k in enumerate(button_keys))\n",
    "\n",
    "box_layout = Layout(\n",
    "    overflow_x='auto',\n",
    "    justify_content='center',\n",
    "    width='80%',\n",
    "    margin='0 auto',\n",
    ")\n",
    "\n",
    "key_box = Box(button_keys, layout=box_layout)\n",
    "\n",
    "button_use_custom_key = widgets.Button(\n",
    "    display='block',\n",
    "    description='USE KEY',\n",
    "    tooltip='Use custom key',\n",
    "    disabled=False,\n",
    "    button_style='success',\n",
    "    icon='key',\n",
    ")\n",
    "\n",
    "button_reset_key = widgets.Button(\n",
    "    display='block',\n",
    "    description='RESET KEY',\n",
    "    tooltip='Reset custom key',\n",
    "    disabled=False,\n",
    "    button_style='info',\n",
    "    icon='key',\n",
    ")"
   ]
  },
  {
   "cell_type": "code",
   "execution_count": null,
   "metadata": {
    "extensions": {
     "jupyter_dashboards": {
      "version": 1,
      "views": {
       "grid_default": {
        "hidden": true
       },
       "report_default": {
        "hidden": true
       }
      }
     }
    }
   },
   "outputs": [],
   "source": [
    "from itertools import cycle\n",
    "from collections import deque\n",
    "\n",
    "# Dictionary of possible key variants\n",
    "key_char_vectors = dict()\n",
    "for index, char in enumerate(key_char_list):\n",
    "    if char == '-':\n",
    "        break\n",
    "    key_char_vectors[index] = cycle(analyser.get_shift_vector(index))\n",
    "    next(key_char_vectors[index])  # skip one at init"
   ]
  },
  {
   "cell_type": "code",
   "execution_count": null,
   "metadata": {
    "extensions": {
     "jupyter_dashboards": {
      "version": 1,
      "views": {
       "grid_default": {
        "hidden": true
       },
       "report_default": {
        "hidden": true
       }
      }
     }
    }
   },
   "outputs": [],
   "source": [
    "shift_layout = graph_objs.Layout(\n",
    "    showlegend=True,\n",
    "    title='Corresponding shift',\n",
    "    xaxis=dict(\n",
    "        tickangle=-45,\n",
    "        domain=[0, 1]\n",
    "    ),\n",
    "    xaxis2=dict(\n",
    "        tickangle=-45,\n",
    "        anchor='y2',\n",
    "        domain=[0, 1]\n",
    "    ),\n",
    "    yaxis=dict(\n",
    "        title='Letter frequency',\n",
    "        tickformat=' %',\n",
    "        domain=[0.60, 1]\n",
    "    ),\n",
    "    yaxis2=dict(\n",
    "        title='Letter frequency',\n",
    "        tickformat=' %',\n",
    "        anchor='x2',\n",
    "        domain=[0, 0.40]\n",
    "    ),\n",
    "#     height='600px'\n",
    ")\n",
    "\n",
    "plot_control = widgets.FloatSlider(\n",
    "    value=0,\n",
    "    min=0.0,\n",
    "    max=1e5,  # Should be sufficient for number of updates\n",
    "    step=0.1,\n",
    "    disabled=False,\n",
    "    continuous_update=False,\n",
    "    orientation='horizontal',\n",
    "    readout=False,\n",
    ")\n",
    "\n",
    "shift_dict = analyser.default_alphabet_dct\n",
    "\n",
    "alphabet_deque = deque(analyser.alphabet)\n",
    "alpha_d = alphabet_deque.copy()"
   ]
  },
  {
   "cell_type": "code",
   "execution_count": null,
   "metadata": {
    "extensions": {
     "jupyter_dashboards": {
      "version": 1,
      "views": {
       "grid_default": {
        "hidden": true
       },
       "report_default": {
        "hidden": true
       }
      }
     }
    }
   },
   "outputs": [],
   "source": [
    "from collections import Counter\n",
    "\n",
    "def _plot_shift(*args, **kwargs):\n",
    "\n",
    "    if not _submitted:\n",
    "        return\n",
    "    \n",
    "    shift_letters = analyser.alphabet \n",
    "    shift_freq = [0.0 for _ in analyser.alphabet]\n",
    "    \n",
    "    if _toggled_key_button is not None:\n",
    "\n",
    "        key_len = len(key_char_list)\n",
    "        # Get letters with stride key_len\n",
    "        cipher_strip = cipher.replace(' ', '')[_toggled_key_index::key_len]\n",
    "\n",
    "        # bag\n",
    "        cipher_strip_bag = Counter(cipher_strip)\n",
    "        cipher_strip_bag.update(shift_dict)\n",
    "        \n",
    "        # sort\n",
    "        sorted_items = sorted([(k, v) for k, v in cipher_strip_bag.items()])\n",
    "        # shift\n",
    "        shift_strip = deque(sorted_items)\n",
    "        shift_strip.rotate(ord('a') - ord(_toggled_key_button.description))\n",
    "        shift_letters = [t[0] for t in shift_strip]\n",
    "        # freq\n",
    "        shift_count = [t[1] for t in shift_strip]\n",
    "        c_sum = sum(shift_count)\n",
    "        shift_freq = [c / c_sum for c in shift_count]\n",
    "\n",
    "    cipher_shift_trace = graph_objs.Bar(\n",
    "        x=shift_letters,\n",
    "        y=shift_freq,\n",
    "        name='Shifted trace',\n",
    "        xaxis='x2',\n",
    "        yaxis='y2',\n",
    "        marker=dict(\n",
    "            color='orange',\n",
    "        )\n",
    "    )\n",
    "    \n",
    "    shift_fig = graph_objs.Figure(data=[default_lang_trace, cipher_shift_trace], layout=shift_layout)\n",
    "\n",
    "    plotly.iplot(shift_fig, show_link=False)"
   ]
  },
  {
   "cell_type": "code",
   "execution_count": null,
   "metadata": {
    "extensions": {
     "jupyter_dashboards": {
      "version": 1,
      "views": {
       "grid_default": {
        "hidden": true
       },
       "report_default": {
        "hidden": true
       }
      }
     }
    }
   },
   "outputs": [],
   "source": [
    "def _trigger_plot():\n",
    "    # Trigger\n",
    "    plot_control.value += 0.1\n",
    "    \n",
    "\n",
    "def _on_toggle_up(sender):\n",
    "    global alpha_d\n",
    "    if not key_char_vectors:\n",
    "        return\n",
    "    index, button = _toggled_key_index, _toggled_key_button\n",
    "    if checkbox_use_suggested_keys.value:\n",
    "        alpha_d = alphabet_deque.copy()\n",
    "        shift = int(next(key_char_vectors[index])) + widget_rotation.value\n",
    "    else:\n",
    "        shift = -1\n",
    "\n",
    "    deque.rotate(alpha_d, shift)\n",
    "    \n",
    "    button.description = alpha_d[0]\n",
    "\n",
    "    _trigger_plot()\n",
    "    \n",
    "    \n",
    "def _on_toggle_down(sender):\n",
    "    global alpha_d\n",
    "    if not key_char_vectors:\n",
    "        return\n",
    "    index, button = _toggled_key_index, _toggled_key_button\n",
    "    if checkbox_use_suggested_keys.value:\n",
    "        alpha_d = alphabet_deque.copy()\n",
    "        for i in range(4):  # 4 is magic (len of shift vector, stable on 5)\n",
    "            shift = int(next(key_char_vectors[index]))\n",
    "        shift += widget_rotation.value\n",
    "    else:\n",
    "        shift = 1\n",
    "        \n",
    "    deque.rotate(alpha_d, shift)\n",
    "    \n",
    "    button.description = alpha_d[0]\n",
    "    \n",
    "    _trigger_plot()\n",
    "    \n",
    "    \n",
    "def _on_toggle_key(sender):\n",
    "    global _toggled_key_index, _toggled_key_button, alpha_d\n",
    "    if _toggled_key_button is not None:\n",
    "        # No need to re-draw plot nor trigger\n",
    "        if _toggled_key_button.tooltip == sender.owner.tooltip:\n",
    "            return\n",
    "        \n",
    "        # Reset old triggers\n",
    "        _toggled_key_button.value = False\n",
    "    \n",
    "    # Set new triggers\n",
    "    try:\n",
    "        _toggled_key_index, _toggled_key_button = int(sender.owner.tooltip), sender.owner\n",
    "    except IndexError:\n",
    "        pass\n",
    "    \n",
    "    if not checkbox_use_suggested_keys.value:\n",
    "        alpha_d = alphabet_deque.copy()\n",
    "        alpha_d.rotate(-(ord(sender.owner.description) - ord('a')))\n",
    "    \n",
    "    _trigger_plot()\n",
    "    \n",
    "        \n",
    "def _on_custom_key(sender):\n",
    "    global _use_custom_key, _custom_key\n",
    "    _use_custom_key = True\n",
    "    _custom_key = \"\".join([b.description for b in key_box.children])\n",
    "    output_area.value = analyser.decipher(custom_key=_custom_key, rot=widget_rotation.value)\n",
    "    \n",
    "def _on_reset_key(sender):\n",
    "    global key, _custom_key, _use_custom_key\n",
    "    _custom_key = key\n",
    "    _use_custom_key = False\n",
    "    for i, but in enumerate(key_box.children):\n",
    "        but.description = key[i]\n",
    "    output_area.value = analyser.decipher(custom_key=key, rot=widget_rotation.value)\n",
    "    \n",
    "    _trigger_plot()"
   ]
  },
  {
   "cell_type": "code",
   "execution_count": null,
   "metadata": {
    "extensions": {
     "jupyter_dashboards": {
      "version": 1,
      "views": {
       "grid_default": {
        "hidden": true
       },
       "report_default": {}
      }
     }
    }
   },
   "outputs": [],
   "source": [
    "button_up.on_click(_on_toggle_up)\n",
    "button_down.on_click(_on_toggle_down)\n",
    "\n",
    "for button in key_box.children:\n",
    "    button.observe(_on_toggle_key, names='value')\n",
    "\n",
    "button_use_custom_key.on_click(_on_custom_key)\n",
    "button_reset_key.on_click(_on_reset_key)"
   ]
  },
  {
   "cell_type": "markdown",
   "metadata": {
    "extensions": {
     "jupyter_dashboards": {
      "version": 1,
      "views": {
       "grid_default": {
        "hidden": true
       },
       "report_default": {
        "hidden": true
       }
      }
     }
    }
   },
   "source": [
    "#### Decrypted key"
   ]
  },
  {
   "cell_type": "code",
   "execution_count": null,
   "metadata": {
    "extensions": {
     "jupyter_dashboards": {
      "version": 1,
      "views": {
       "grid_default": {
        "col": 0,
        "height": 9,
        "hidden": true,
        "row": 44,
        "width": 12
       },
       "report_default": {
        "hidden": true
       }
      }
     }
    }
   },
   "outputs": [],
   "source": [
    "button_custom_box = Box([button_use_custom_key, button_reset_key])\n",
    "button_custom_box.layout.display = 'flex'\n",
    "button_custom_box.layout.flex_flow = 'row'\n",
    "button_custom_box.layout.justify_content = 'flex-end'"
   ]
  },
  {
   "cell_type": "code",
   "execution_count": null,
   "metadata": {
    "extensions": {
     "jupyter_dashboards": {
      "version": 1,
      "views": {
       "grid_default": {
        "col": 0,
        "height": 4,
        "hidden": false,
        "row": 91,
        "width": 12
       },
       "report_default": {
        "hidden": true
       }
      }
     }
    },
    "scrolled": true
   },
   "outputs": [],
   "source": [
    "display(widgets.Label(value=\"Decrypted key:\"))\n",
    "display(checkbox_use_suggested_keys)"
   ]
  },
  {
   "cell_type": "code",
   "execution_count": null,
   "metadata": {
    "extensions": {
     "jupyter_dashboards": {
      "version": 1,
      "views": {
       "grid_default": {
        "col": 0,
        "height": 8,
        "hidden": false,
        "row": 95,
        "width": 12
       },
       "report_default": {
        "hidden": true
       }
      }
     }
    },
    "scrolled": false
   },
   "outputs": [],
   "source": [
    "display(button_up)\n",
    "display(key_box)\n",
    "display(button_down)\n",
    "display(button_custom_box)"
   ]
  },
  {
   "cell_type": "markdown",
   "metadata": {
    "extensions": {
     "jupyter_dashboards": {
      "version": 1,
      "views": {
       "grid_default": {
        "hidden": true
       },
       "report_default": {
        "hidden": true
       }
      }
     }
    }
   },
   "source": [
    "### Corresponding shift"
   ]
  },
  {
   "cell_type": "code",
   "execution_count": null,
   "metadata": {
    "extensions": {
     "jupyter_dashboards": {
      "version": 1,
      "views": {
       "grid_default": {
        "col": 0,
        "height": 19,
        "hidden": false,
        "row": 103,
        "width": null
       },
       "report_default": {}
      }
     }
    }
   },
   "outputs": [],
   "source": [
    "interactive_output(_plot_shift, controls=dict(control_button = plot_control))"
   ]
  },
  {
   "cell_type": "code",
   "execution_count": null,
   "metadata": {
    "extensions": {
     "jupyter_dashboards": {
      "version": 1,
      "views": {
       "grid_default": {
        "hidden": true
       },
       "report_default": {}
      }
     }
    }
   },
   "outputs": [],
   "source": [
    "# Set first index to True to draw graph\n",
    "key_box.children[0].value = True"
   ]
  },
  {
   "cell_type": "markdown",
   "metadata": {
    "extensions": {
     "jupyter_dashboards": {
      "version": 1,
      "views": {
       "grid_default": {
        "col": 0,
        "height": 2,
        "hidden": false,
        "row": 124,
        "width": 12
       },
       "report_default": {
        "hidden": false
       }
      }
     }
    }
   },
   "source": [
    "### Text decryption"
   ]
  },
  {
   "cell_type": "markdown",
   "metadata": {
    "extensions": {
     "jupyter_dashboards": {
      "version": 1,
      "views": {
       "grid_default": {
        "col": 0,
        "height": 2,
        "hidden": false,
        "row": 126,
        "width": 12
       },
       "report_default": {}
      }
     }
    }
   },
   "source": [
    "Deciphering monoalphabetic cipher is just reversed encoding process.<br>\n",
    "Key is applied to each character of the cipher, respectively, and reversed shift is performed."
   ]
  },
  {
   "cell_type": "markdown",
   "metadata": {
    "extensions": {
     "jupyter_dashboards": {
      "version": 1,
      "views": {
       "grid_default": {
        "col": 0,
        "height": 2,
        "hidden": false,
        "row": 122,
        "width": 12
       },
       "report_default": {}
      }
     }
    }
   },
   "source": [
    "---"
   ]
  },
  {
   "cell_type": "code",
   "execution_count": null,
   "metadata": {
    "extensions": {
     "jupyter_dashboards": {
      "version": 1,
      "views": {
       "grid_default": {
        "hidden": true
       },
       "report_default": {
        "hidden": true
       }
      }
     }
    }
   },
   "outputs": [],
   "source": [
    "result = ''\n",
    "if _submitted:\n",
    "    use_key = _custom_key if _use_custom_key else key\n",
    "    # Rotation has been handled by rotating the key\n",
    "    result = analyser.decipher(custom_key=use_key, rot=widget_rotation.value)\n",
    "    \n",
    "output_area.value = result"
   ]
  },
  {
   "cell_type": "code",
   "execution_count": null,
   "metadata": {
    "extensions": {
     "jupyter_dashboards": {
      "version": 1,
      "views": {
       "grid_default": {
        "col": 0,
        "height": 9,
        "hidden": false,
        "row": 128,
        "width": 12
       },
       "report_default": {}
      }
     }
    }
   },
   "outputs": [],
   "source": [
    "display(widgets.Label(value=\"Decrypted text:\"))\n",
    "display(_create_text_box(output_area))"
   ]
  }
 ],
 "metadata": {
  "extensions": {
   "jupyter_dashboards": {
    "activeView": "grid_default",
    "version": 1,
    "views": {
     "grid_default": {
      "cellMargin": 10,
      "defaultCellHeight": 20,
      "maxColumns": 12,
      "name": "grid",
      "type": "grid"
     },
     "report_default": {
      "name": "report",
      "type": "report"
     }
    }
   }
  },
  "kernelspec": {
   "display_name": "Python 3",
   "language": "python",
   "name": "python3"
  },
  "language_info": {
   "codemirror_mode": {
    "name": "ipython",
    "version": 3
   },
   "file_extension": ".py",
   "mimetype": "text/x-python",
   "name": "python",
   "nbconvert_exporter": "python",
   "pygments_lexer": "ipython3",
   "version": "3.6.3"
  }
 },
 "nbformat": 4,
 "nbformat_minor": 1
}
