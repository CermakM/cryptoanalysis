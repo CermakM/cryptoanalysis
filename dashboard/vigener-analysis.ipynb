{
 "cells": [
  {
   "cell_type": "markdown",
   "metadata": {
    "extensions": {
     "jupyter_dashboards": {
      "version": 1,
      "views": {
       "grid_default": {
        "col": 0,
        "height": 3,
        "hidden": false,
        "row": 0,
        "width": 12
       },
       "report_default": {
        "hidden": false
       }
      }
     }
    }
   },
   "source": [
    "# Vigenér cipher decryption\n",
    "---"
   ]
  },
  {
   "cell_type": "code",
   "execution_count": null,
   "metadata": {
    "extensions": {
     "jupyter_dashboards": {
      "version": 1,
      "views": {
       "grid_default": {
        "hidden": true
       },
       "report_default": {
        "hidden": true
       }
      }
     }
    }
   },
   "outputs": [],
   "source": [
    "import os\n",
    "import sys\n",
    "\n",
    "__module_path = os.path.abspath(os.path.join('..'))\n",
    "if __module_path not in sys.path:\n",
    "    sys.path.append(__module_path)\n",
    "\n",
    "import cryptoanalysis\n",
    "\n",
    "import numpy as np\n",
    "\n",
    "from IPython.display import Javascript, HTML\n",
    "\n",
    "from plotly import graph_objs, __version__\n",
    "import plotly.offline as plotly\n",
    "\n",
    "from ipywidgets import Layout, widgets, Box, HBox, VBox"
   ]
  },
  {
   "cell_type": "code",
   "execution_count": null,
   "metadata": {
    "extensions": {
     "jupyter_dashboards": {
      "version": 1,
      "views": {
       "grid_default": {
        "hidden": true
       },
       "report_default": {
        "hidden": true
       }
      }
     }
    }
   },
   "outputs": [],
   "source": [
    "%matplotlib inline"
   ]
  },
  {
   "cell_type": "code",
   "execution_count": null,
   "metadata": {
    "extensions": {
     "jupyter_dashboards": {
      "version": 1,
      "views": {
       "grid_default": {
        "hidden": true
       },
       "report_default": {
        "hidden": false
       }
      }
     }
    }
   },
   "outputs": [],
   "source": [
    "plotly_version = __version__\n",
    "\n",
    "# For online connection:\n",
    "# plotly.tools.set_credentials_file(username='CermakM', api_key='q2yoGYw052dyHMd8ztqx')\n",
    "# plotly.tools.set_config_file(world_readable=False, sharing='secret')\n",
    "\n",
    "plotly.init_notebook_mode(connected=True)"
   ]
  },
  {
   "cell_type": "code",
   "execution_count": null,
   "metadata": {
    "extensions": {
     "jupyter_dashboards": {
      "version": 1,
      "views": {
       "grid_default": {
        "hidden": true
       },
       "report_default": {
        "hidden": true
       }
      }
     }
    }
   },
   "outputs": [],
   "source": [
    "_submitted = False\n",
    "_reset = True\n",
    "\n",
    "cipher = ''\n",
    "decrypted_text = ''\n",
    "\n",
    "analyser = cryptoanalysis.decryption.Analyser(lang='en')"
   ]
  },
  {
   "cell_type": "markdown",
   "metadata": {
    "extensions": {
     "jupyter_dashboards": {
      "version": 1,
      "views": {
       "grid_default": {
        "col": 0,
        "height": 4,
        "hidden": true,
        "row": 3,
        "width": 12
       },
       "report_default": {
        "hidden": true
       }
      }
     }
    }
   },
   "source": [
    "### Encrypted text"
   ]
  },
  {
   "cell_type": "code",
   "execution_count": null,
   "metadata": {
    "extensions": {
     "jupyter_dashboards": {
      "version": 1,
      "views": {
       "grid_default": {
        "hidden": true
       },
       "report_default": {}
      }
     }
    }
   },
   "outputs": [],
   "source": [
    "def _create_text_box(*args, **kwargs):\n",
    "    for widget in args:\n",
    "        widget.layout=Layout(width='100%', height='200px')\n",
    "    box = Box(args, **kwargs)\n",
    "    box.layout.display = 'flex'\n",
    "    box.layout.align_items = 'stretch'\n",
    "    box.layout.min_height = '230px'\n",
    "    box.layout.flex_direction = 'row'\n",
    "    return box"
   ]
  },
  {
   "cell_type": "code",
   "execution_count": null,
   "metadata": {
    "extensions": {
     "jupyter_dashboards": {
      "version": 1,
      "views": {
       "grid_default": {
        "hidden": true
       },
       "report_default": {
        "hidden": true
       }
      }
     }
    }
   },
   "outputs": [],
   "source": [
    "input_area = widgets.Textarea(\n",
    "    placeholder='Encrypted text',\n",
    ")  \n",
    "\n",
    "output_area = widgets.Textarea(\n",
    "    placeholder='Decrypted text',\n",
    "    disabled=True\n",
    ")\n",
    "\n",
    "input_box = _create_text_box(input_area)\n",
    "output_box = _create_text_box(output_area)"
   ]
  },
  {
   "cell_type": "code",
   "execution_count": null,
   "metadata": {
    "extensions": {
     "jupyter_dashboards": {
      "version": 1,
      "views": {
       "grid_default": {
        "hidden": true
       },
       "report_default": {
        "hidden": true
       }
      }
     }
    }
   },
   "outputs": [],
   "source": [
    "submit_input_button = widgets.Button(\n",
    "    description='SUBMIT',\n",
    "    disabled=False,\n",
    "    button_style='success',\n",
    "    icon='check'\n",
    ")\n",
    "\n",
    "reset_input_button = widgets.Button(\n",
    "    description='RESET',\n",
    "    disabled=False,\n",
    "    button_style='danger'\n",
    ")"
   ]
  },
  {
   "cell_type": "code",
   "execution_count": null,
   "metadata": {
    "extensions": {
     "jupyter_dashboards": {
      "version": 1,
      "views": {
       "grid_default": {
        "hidden": true
       },
       "report_default": {
        "hidden": true
       }
      }
     }
    }
   },
   "outputs": [],
   "source": [
    "def _on_submit(sender):\n",
    "    global analyser, cipher, _submitted, _reset\n",
    "            \n",
    "    cipher = input_area.value\n",
    "    \n",
    "    if not cipher:\n",
    "        return\n",
    "    \n",
    "    _reset = False\n",
    "\n",
    "    analyser = cryptoanalysis.decryption.Analyser(cipher=cipher, lang='en')\n",
    "    \n",
    "    display(Javascript('IPython.notebook.execute_cells_below()'))\n",
    "    \n",
    "    if not _submitted:\n",
    "#         Javascript('$.notify(\"Cipher submitted\");')\n",
    "        \n",
    "        _submitted = True\n",
    "    \n",
    "def _on_reset(sender):\n",
    "    global analyser, cipher, _submitted\n",
    "    \n",
    "    _submitted = False\n",
    "    \n",
    "    cipher = ''\n",
    "    analyser = cryptoanalysis.decryption.Analyser(lang='en')\n",
    "    input_area.value = ''\n",
    "    \n",
    "    display(Javascript('IPython.notebook.execute_cells_below()'))\n",
    "    \n",
    "    if not _reset:\n",
    "#         Javascript('$.notify(\"Analyser has been reset\")')\n",
    "        \n",
    "        _reset = True"
   ]
  },
  {
   "cell_type": "code",
   "execution_count": null,
   "metadata": {
    "extensions": {
     "jupyter_dashboards": {
      "version": 1,
      "views": {
       "grid_default": {
        "hidden": true
       },
       "report_default": {
        "hidden": true
       }
      }
     }
    }
   },
   "outputs": [],
   "source": [
    "submit_input_button.on_click(_on_submit)\n",
    "reset_input_button.on_click(_on_reset)"
   ]
  },
  {
   "cell_type": "code",
   "execution_count": null,
   "metadata": {
    "extensions": {
     "jupyter_dashboards": {
      "version": 1,
      "views": {
       "grid_default": {
        "hidden": true
       },
       "report_default": {}
      }
     }
    }
   },
   "outputs": [],
   "source": [
    "submit_input_button.layout.margin = '2px 2px 2px auto'\n",
    "reset_input_button.layout.margin = '2px 2px 2px 5px'\n",
    "\n",
    "submit_box = HBox([submit_input_button, reset_input_button])\n",
    "\n",
    "submit_box.layout.display = 'flex'\n",
    "submit_box.layout.flex_flow = 'row'\n",
    "submit_box.layout.align_items = 'flex-end'"
   ]
  },
  {
   "cell_type": "code",
   "execution_count": null,
   "metadata": {
    "extensions": {
     "jupyter_dashboards": {
      "version": 1,
      "views": {
       "grid_default": {
        "hidden": true
       },
       "report_default": {}
      }
     }
    }
   },
   "outputs": [],
   "source": [
    "button_samples = widgets.ToggleButtons(\n",
    "    options=['Sample 1', 'Sample 2', 'Sample 3'],\n",
    "    description='Load sample:',\n",
    "    disabled=False,\n",
    "    button_style='',\n",
    "    tooltips=['Caesar cipher', 'Vigener cipher - short', 'Vigener cipher - long']\n",
    ")\n",
    "\n",
    "button_load = widgets.Button(\n",
    "    description='LOAD',\n",
    "    disabled=False,\n",
    "    button_style='success',\n",
    "    icon='upload'\n",
    ")\n",
    "\n",
    "samples = ['samples/TIKcipher1.txt', 'samples/TIKcipher2a.txt', 'samples/TIKcipher2b.txt']\n",
    "\n",
    "def _on_sample_load(sender):\n",
    "    sample_to_read = samples[button_samples.index]\n",
    "    with open(os.path.join(__module_path, sample_to_read)) as s:\n",
    "        input_area.value = s.read()\n",
    "        \n",
    "button_load.on_click(_on_sample_load)"
   ]
  },
  {
   "cell_type": "code",
   "execution_count": null,
   "metadata": {
    "extensions": {
     "jupyter_dashboards": {
      "version": 1,
      "views": {
       "grid_default": {
        "hidden": true
       },
       "report_default": {}
      }
     }
    }
   },
   "outputs": [],
   "source": [
    "def _on_input(sender):\n",
    "    pass\n",
    "    \n",
    "input_area.observe(_on_input, names='value')"
   ]
  },
  {
   "cell_type": "code",
   "execution_count": null,
   "metadata": {
    "extensions": {
     "jupyter_dashboards": {
      "version": 1,
      "views": {
       "grid_default": {
        "col": 0,
        "height": 2,
        "hidden": false,
        "row": 3,
        "width": 12
       },
       "report_default": {}
      }
     }
    }
   },
   "outputs": [],
   "source": [
    "display(HBox([button_samples, button_load]))"
   ]
  },
  {
   "cell_type": "code",
   "execution_count": null,
   "metadata": {
    "extensions": {
     "jupyter_dashboards": {
      "version": 1,
      "views": {
       "grid_default": {
        "col": 0,
        "height": 10,
        "hidden": false,
        "row": 5,
        "width": 12
       },
       "report_default": {
        "hidden": true
       }
      }
     }
    },
    "scrolled": true
   },
   "outputs": [],
   "source": [
    "display(VBox([input_box, submit_box]))"
   ]
  },
  {
   "cell_type": "markdown",
   "metadata": {
    "extensions": {
     "jupyter_dashboards": {
      "version": 1,
      "views": {
       "grid_default": {
        "col": 0,
        "height": 4,
        "hidden": true,
        "row": 17,
        "width": 12
       },
       "report_default": {
        "hidden": false
       }
      }
     }
    }
   },
   "source": [
    "---\n",
    "### Frequency Analysis"
   ]
  },
  {
   "cell_type": "code",
   "execution_count": null,
   "metadata": {
    "extensions": {
     "jupyter_dashboards": {
      "version": 1,
      "views": {
       "grid_default": {
        "hidden": true
       },
       "report_default": {
        "hidden": true
       }
      }
     }
    }
   },
   "outputs": [],
   "source": [
    "default_lang_trace = graph_objs.Bar(\n",
    "    x=analyser.alphabet,\n",
    "    y=analyser.letter_frequency,\n",
    "    name='Language'\n",
    ")\n",
    "\n",
    "if cipher:\n",
    "    cipher_dict = analyser.get_char_frequency()\n",
    "    cipher_trace = graph_objs.Bar(\n",
    "        x=list(cipher_dict.keys()),\n",
    "        y=list(cipher_dict.values()),\n",
    "        name='Cipher'\n",
    "    )\n",
    "    data = [default_lang_trace, cipher_trace]\n",
    "\n",
    "else:\n",
    "    data = [default_lang_trace]\n",
    "    \n",
    "layout = graph_objs.Layout(\n",
    "    showlegend=True,\n",
    "    title='Frequency analysis',\n",
    "    xaxis=dict(tickangle=-45),\n",
    "    yaxis=dict(\n",
    "        title='Letter frequency',\n",
    "        tickformat=' %'),\n",
    "    barmode='group'\n",
    ")\n"
   ]
  },
  {
   "cell_type": "code",
   "execution_count": null,
   "metadata": {
    "extensions": {
     "jupyter_dashboards": {
      "version": 1,
      "views": {
       "grid_default": {
        "col": 0,
        "height": 19,
        "hidden": false,
        "row": 15,
        "width": 12
       },
       "report_default": {
        "hidden": false
       }
      }
     }
    }
   },
   "outputs": [],
   "source": [
    "fig = graph_objs.Figure(data=data, layout=layout)\n",
    "\n",
    "plotly.iplot(fig)"
   ]
  },
  {
   "cell_type": "markdown",
   "metadata": {
    "extensions": {
     "jupyter_dashboards": {
      "version": 1,
      "views": {
       "grid_default": {
        "col": 0,
        "height": 4,
        "hidden": true,
        "row": 32,
        "width": 12
       },
       "report_default": {
        "hidden": false
       }
      }
     }
    }
   },
   "source": [
    "---\n",
    "### Key decryption"
   ]
  },
  {
   "cell_type": "code",
   "execution_count": null,
   "metadata": {
    "extensions": {
     "jupyter_dashboards": {
      "version": 1,
      "views": {
       "grid_default": {
        "hidden": true
       },
       "report_default": {
        "hidden": true
       }
      }
     }
    }
   },
   "outputs": [],
   "source": [
    "widget_rotation = widgets.ToggleButtons(\n",
    "    options=[1, 0],\n",
    "    disabled=False,\n",
    "    tooltips=['Rotation 1: `a` -> `b`', 'Rotation 0: `a` -> `a`']\n",
    ")\n",
    "\n",
    "options = [] if not cipher else analyser.get_key_len_list()\n",
    "\n",
    "widget_key_len = widgets.ToggleButtons(\n",
    "    options=['-'] if not options else options,\n",
    "    disabled=not options,\n",
    "    button_style=''\n",
    ")\n",
    "\n",
    "key = ''"
   ]
  },
  {
   "cell_type": "code",
   "execution_count": null,
   "metadata": {
    "extensions": {
     "jupyter_dashboards": {
      "version": 1,
      "views": {
       "grid_default": {
        "hidden": true
       },
       "report_default": {
        "hidden": true
       }
      }
     }
    }
   },
   "outputs": [],
   "source": [
    "def _on_len_change(sender):\n",
    "    global key\n",
    "    if _submitted:\n",
    "        key, _ = analyser.get_keys(key_id=widget_key_len.index)\n",
    "        \n",
    "        display(Javascript('IPython.notebook.execute_cells_below()'))\n",
    "    else:\n",
    "        key = ''\n",
    "\n",
    "widget_key_len.observe(_on_len_change, 'value')\n",
    "\n",
    "_on_len_change(None)  # Run for initialization"
   ]
  },
  {
   "cell_type": "code",
   "execution_count": null,
   "metadata": {
    "extensions": {
     "jupyter_dashboards": {
      "version": 1,
      "views": {
       "grid_default": {
        "col": 0,
        "height": 4,
        "hidden": false,
        "row": 34,
        "width": 12
       },
       "report_default": {
        "hidden": false
       }
      }
     }
    }
   },
   "outputs": [],
   "source": [
    "display(widgets.Label(value=\"Suggested key length:\"))\n",
    "display(widget_key_len)"
   ]
  },
  {
   "cell_type": "code",
   "execution_count": null,
   "metadata": {
    "extensions": {
     "jupyter_dashboards": {
      "version": 1,
      "views": {
       "grid_default": {
        "hidden": true
       },
       "report_default": {}
      }
     }
    }
   },
   "outputs": [],
   "source": [
    "from itertools import cycle\n",
    "from collections import deque\n",
    "\n",
    "alphabet_deque = deque(analyser.alphabet)\n",
    "\n",
    "key_char_list = [c for c in key] or ['-']\n",
    "\n",
    "# Dictionary of possible key variants\n",
    "key_char_vectors = dict()\n",
    "for index, char in enumerate(key_char_list):\n",
    "    if char == '-':\n",
    "        break\n",
    "    key_char_vectors[index] = cycle(analyser.get_shift_vector(index))\n",
    "    next(key_char_vectors[index])  # skip one at init"
   ]
  },
  {
   "cell_type": "code",
   "execution_count": null,
   "metadata": {
    "extensions": {
     "jupyter_dashboards": {
      "version": 1,
      "views": {
       "grid_default": {
        "col": 0,
        "height": 4,
        "hidden": true,
        "row": 69,
        "width": 12
       },
       "report_default": {
        "hidden": false
       }
      }
     }
    }
   },
   "outputs": [],
   "source": [
    "key_char_cache = list()  # empty list for key char widgets to ease indexing\n",
    "\n",
    "def _on_toggle_up(sender):\n",
    "    # TODO index???\n",
    "    index = 0\n",
    "    shift = int(next(key_char_vectors[index])) + 1\n",
    "    alpha_d = alphabet_deque.copy()\n",
    "    deque.rotate(alpha_d, shift)\n",
    "    key_char_cache[index].description = alpha_d[0]\n",
    "    \n",
    "def _on_toggle_down(sender):\n",
    "    # TODO index???\n",
    "    index = 0\n",
    "    \n",
    "    for i in range(4):  # 4 is magic (len of shift vector, stable on 5)\n",
    "        shift = int(next(key_char_vectors[index])) + 1\n",
    "        \n",
    "    alpha_d = alphabet_deque.copy()\n",
    "    deque.rotate(alpha_d, shift)\n",
    "    key_char_cache[index].description = alpha_d[0]\n",
    "\n",
    "def _create_toggle_keys(*args):\n",
    "    global key_char_cache\n",
    "    key_char_cache = list()\n",
    "    \n",
    "    for arg in args:\n",
    "        button_up = widgets.Button(disabled=False, icon='angle-up')\n",
    "        button_down = widgets.Button(disabled=False, icon='angle-down')\n",
    "        button = widgets.ToggleButton(description=arg or '-', button_style='')\n",
    "        \n",
    "        button_up.on_click(_on_toggle_up)\n",
    "        button_down.on_click(_on_toggle_down)\n",
    "        key_char_cache.append(button)  # key button can now be indexed\n",
    "        \n",
    "        yield VBox([button_up, button, button_down])"
   ]
  },
  {
   "cell_type": "code",
   "execution_count": null,
   "metadata": {
    "extensions": {
     "jupyter_dashboards": {
      "version": 1,
      "views": {
       "grid_default": {
        "hidden": true
       },
       "report_default": {}
      }
     }
    }
   },
   "outputs": [],
   "source": [
    "key_box = HBox([*_create_toggle_keys(*key_char_list)])"
   ]
  },
  {
   "cell_type": "markdown",
   "metadata": {
    "extensions": {
     "jupyter_dashboards": {
      "version": 1,
      "views": {
       "grid_default": {
        "hidden": true
       },
       "report_default": {
        "hidden": true
       }
      }
     }
    }
   },
   "source": [
    "#### Decrypted key"
   ]
  },
  {
   "cell_type": "code",
   "execution_count": null,
   "metadata": {
    "extensions": {
     "jupyter_dashboards": {
      "version": 1,
      "views": {
       "grid_default": {
        "col": 0,
        "height": 6,
        "hidden": false,
        "row": 38,
        "width": 12
       },
       "report_default": {
        "hidden": true
       }
      }
     }
    },
    "scrolled": true
   },
   "outputs": [],
   "source": [
    "display(widgets.Label(value=\"Decrypted key:\"))\n",
    "display(key_box)"
   ]
  },
  {
   "cell_type": "markdown",
   "metadata": {
    "extensions": {
     "jupyter_dashboards": {
      "version": 1,
      "views": {
       "grid_default": {
        "hidden": true
       },
       "report_default": {
        "hidden": true
       }
      }
     }
    }
   },
   "source": [
    "#### Corresponding shift"
   ]
  },
  {
   "cell_type": "code",
   "execution_count": null,
   "metadata": {
    "extensions": {
     "jupyter_dashboards": {
      "version": 1,
      "views": {
       "grid_default": {
        "hidden": true
       },
       "report_default": {
        "hidden": true
       }
      }
     }
    }
   },
   "outputs": [],
   "source": [
    "# TODO print corresponding shift plot?"
   ]
  },
  {
   "cell_type": "markdown",
   "metadata": {
    "extensions": {
     "jupyter_dashboards": {
      "version": 1,
      "views": {
       "grid_default": {
        "col": 0,
        "height": 4,
        "hidden": true,
        "row": 39,
        "width": 12
       },
       "report_default": {
        "hidden": false
       }
      }
     }
    }
   },
   "source": [
    "---\n",
    "### Text decryption"
   ]
  },
  {
   "cell_type": "code",
   "execution_count": null,
   "metadata": {
    "extensions": {
     "jupyter_dashboards": {
      "version": 1,
      "views": {
       "grid_default": {
        "hidden": true
       },
       "report_default": {}
      }
     }
    }
   },
   "outputs": [],
   "source": [
    "def _on_rot_change(sender):\n",
    "\n",
    "    output_area.value = analyser.decipher(custom_key=key, rot=widget_rotation.value)"
   ]
  },
  {
   "cell_type": "code",
   "execution_count": null,
   "metadata": {
    "extensions": {
     "jupyter_dashboards": {
      "version": 1,
      "views": {
       "grid_default": {
        "hidden": true
       },
       "report_default": {}
      }
     }
    }
   },
   "outputs": [],
   "source": [
    "widget_rotation.observe(_on_rot_change, 'value')"
   ]
  },
  {
   "cell_type": "markdown",
   "metadata": {
    "extensions": {
     "jupyter_dashboards": {
      "version": 1,
      "views": {
       "grid_default": {
        "col": 0,
        "height": 2,
        "hidden": false,
        "row": 44,
        "width": 12
       },
       "report_default": {}
      }
     }
    }
   },
   "source": [
    "---"
   ]
  },
  {
   "cell_type": "code",
   "execution_count": null,
   "metadata": {
    "extensions": {
     "jupyter_dashboards": {
      "version": 1,
      "views": {
       "grid_default": {
        "col": 0,
        "height": 4,
        "hidden": false,
        "row": 46,
        "width": 12
       },
       "report_default": {
        "hidden": false
       }
      }
     }
    }
   },
   "outputs": [],
   "source": [
    "display(widgets.Label(value=\"Select rotation:\"))\n",
    "display(widget_rotation)"
   ]
  },
  {
   "cell_type": "code",
   "execution_count": null,
   "metadata": {
    "extensions": {
     "jupyter_dashboards": {
      "version": 1,
      "views": {
       "grid_default": {
        "hidden": true
       },
       "report_default": {
        "hidden": true
       }
      }
     }
    }
   },
   "outputs": [],
   "source": [
    "result = ''\n",
    "if _submitted:\n",
    "    result = analyser.decipher(custom_key=key, rot=widget_rotation.value)\n",
    "    \n",
    "output_area.value = result"
   ]
  },
  {
   "cell_type": "code",
   "execution_count": null,
   "metadata": {
    "extensions": {
     "jupyter_dashboards": {
      "version": 1,
      "views": {
       "grid_default": {
        "col": 0,
        "height": 9,
        "hidden": false,
        "row": 50,
        "width": 12
       },
       "report_default": {}
      }
     }
    }
   },
   "outputs": [],
   "source": [
    "display(widgets.Label(value=\"Decrypted text:\"))\n",
    "display(_create_text_box(output_area))"
   ]
  }
 ],
 "metadata": {
  "extensions": {
   "jupyter_dashboards": {
    "activeView": "grid_default",
    "version": 1,
    "views": {
     "grid_default": {
      "cellMargin": 10,
      "defaultCellHeight": 20,
      "maxColumns": 12,
      "name": "grid",
      "type": "grid"
     },
     "report_default": {
      "name": "report",
      "type": "report"
     }
    }
   }
  },
  "kernelspec": {
   "display_name": "Python 3",
   "language": "python",
   "name": "python3"
  },
  "language_info": {
   "codemirror_mode": {
    "name": "ipython",
    "version": 3
   },
   "file_extension": ".py",
   "mimetype": "text/x-python",
   "name": "python",
   "nbconvert_exporter": "python",
   "pygments_lexer": "ipython3",
   "version": "3.6.3"
  }
 },
 "nbformat": 4,
 "nbformat_minor": 1
}
