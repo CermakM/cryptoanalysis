{
 "cells": [
  {
   "cell_type": "markdown",
   "metadata": {
    "extensions": {
     "jupyter_dashboards": {
      "version": 1,
      "views": {
       "grid_default": {
        "col": 0,
        "height": 3,
        "hidden": false,
        "row": 0,
        "width": 12
       },
       "report_default": {
        "hidden": false
       }
      }
     }
    }
   },
   "source": [
    "# Vigenér cipher decryption\n",
    "---"
   ]
  },
  {
   "cell_type": "code",
   "execution_count": 1,
   "metadata": {
    "extensions": {
     "jupyter_dashboards": {
      "version": 1,
      "views": {
       "grid_default": {
        "hidden": true
       },
       "report_default": {
        "hidden": true
       }
      }
     }
    }
   },
   "outputs": [],
   "source": [
    "import os\n",
    "import sys\n",
    "\n",
    "__module_path = os.path.abspath(os.path.join('..'))\n",
    "if __module_path not in sys.path:\n",
    "    sys.path.append(__module_path)\n",
    "\n",
    "import cryptoanalysis\n",
    "\n",
    "import numpy as np\n",
    "\n",
    "from IPython.display import Javascript, Markdown\n",
    "\n",
    "from plotly import graph_objs, __version__\n",
    "import plotly.offline as plotly\n",
    "\n",
    "from ipywidgets import interact, interactive, widgets, HBox"
   ]
  },
  {
   "cell_type": "code",
   "execution_count": 2,
   "metadata": {
    "extensions": {
     "jupyter_dashboards": {
      "version": 1,
      "views": {
       "grid_default": {
        "hidden": true
       },
       "report_default": {
        "hidden": true
       }
      }
     }
    }
   },
   "outputs": [],
   "source": [
    "%matplotlib inline"
   ]
  },
  {
   "cell_type": "code",
   "execution_count": 3,
   "metadata": {
    "extensions": {
     "jupyter_dashboards": {
      "version": 1,
      "views": {
       "grid_default": {
        "hidden": true
       },
       "report_default": {
        "hidden": false
       }
      }
     }
    }
   },
   "outputs": [
    {
     "data": {
      "text/html": [
       "<script>requirejs.config({paths: { 'plotly': ['https://cdn.plot.ly/plotly-latest.min']},});if(!window.Plotly) {{require(['plotly'],function(plotly) {window.Plotly=plotly;});}}</script>"
      ],
      "text/vnd.plotly.v1+html": [
       "<script>requirejs.config({paths: { 'plotly': ['https://cdn.plot.ly/plotly-latest.min']},});if(!window.Plotly) {{require(['plotly'],function(plotly) {window.Plotly=plotly;});}}</script>"
      ]
     },
     "metadata": {},
     "output_type": "display_data"
    }
   ],
   "source": [
    "plotly_version = __version__\n",
    "\n",
    "# For online connection:\n",
    "# plotly.tools.set_credentials_file(username='CermakM', api_key='q2yoGYw052dyHMd8ztqx')\n",
    "# plotly.tools.set_config_file(world_readable=False, sharing='secret')\n",
    "\n",
    "plotly.init_notebook_mode(connected=True)"
   ]
  },
  {
   "cell_type": "markdown",
   "metadata": {
    "extensions": {
     "jupyter_dashboards": {
      "version": 1,
      "views": {
       "grid_default": {
        "col": 0,
        "height": 3,
        "hidden": true,
        "row": 3,
        "width": 12
       },
       "report_default": {
        "hidden": false
       }
      }
     }
    }
   },
   "source": [
    "### Encrypted text"
   ]
  },
  {
   "cell_type": "code",
   "execution_count": 4,
   "metadata": {
    "extensions": {
     "jupyter_dashboards": {
      "version": 1,
      "views": {
       "grid_default": {
        "hidden": true
       },
       "report_default": {
        "hidden": true
       }
      }
     }
    }
   },
   "outputs": [],
   "source": [
    "_submitted = False\n",
    "_reset = True\n",
    "\n",
    "cipher = ''\n",
    "decrypted_text = ''\n",
    "\n",
    "analyser = cryptoanalysis.decryption.Analyser(lang='en')"
   ]
  },
  {
   "cell_type": "code",
   "execution_count": 5,
   "metadata": {
    "extensions": {
     "jupyter_dashboards": {
      "version": 1,
      "views": {
       "grid_default": {
        "hidden": true
       },
       "report_default": {
        "hidden": true
       }
      }
     }
    }
   },
   "outputs": [],
   "source": [
    "input_area = widgets.Textarea(\n",
    "    placeholder='Paste here encoded text to be decrypted',\n",
    ")\n",
    "\n",
    "output_area = widgets.Textarea(\n",
    "    placeholder='Submit cipher and start decrypting',\n",
    "    disabled=True\n",
    ")"
   ]
  },
  {
   "cell_type": "code",
   "execution_count": 6,
   "metadata": {
    "extensions": {
     "jupyter_dashboards": {
      "version": 1,
      "views": {
       "grid_default": {
        "hidden": true
       },
       "report_default": {
        "hidden": true
       }
      }
     }
    }
   },
   "outputs": [],
   "source": [
    "submit_input_button = widgets.Button(\n",
    "    description='SUBMIT',\n",
    "    disabled=False,\n",
    "    button_style='success',\n",
    "    icon='check'\n",
    ")\n",
    "\n",
    "reset_input_button = widgets.Button(\n",
    "    description='RESET',\n",
    "    disabled=False,\n",
    "    button_style='danger'\n",
    ")"
   ]
  },
  {
   "cell_type": "code",
   "execution_count": 7,
   "metadata": {
    "extensions": {
     "jupyter_dashboards": {
      "version": 1,
      "views": {
       "grid_default": {
        "hidden": true
       },
       "report_default": {
        "hidden": true
       }
      }
     }
    }
   },
   "outputs": [],
   "source": [
    "def _on_submit(sender):\n",
    "    global analyser, cipher, _submitted, _reset\n",
    "            \n",
    "    cipher = input_area.value\n",
    "    \n",
    "    if not cipher:\n",
    "        return\n",
    "    \n",
    "    _reset = False\n",
    "\n",
    "    analyser = cryptoanalysis.decryption.Analyser(cipher=cipher, lang='en')\n",
    "    \n",
    "    display(Javascript('IPython.notebook.execute_cells_below()'))\n",
    "    \n",
    "    if not _submitted:\n",
    "#         Javascript('$.notify(\"Cipher submitted\");')\n",
    "        \n",
    "        _submitted = True\n",
    "    \n",
    "def _on_reset(sender):\n",
    "    global analyser, cipher, _submitted\n",
    "    \n",
    "    _submitted = False\n",
    "    \n",
    "    cipher = ''\n",
    "    analyser = cryptoanalysis.decryption.Analyser(lang='en')\n",
    "    input_area.value = ''\n",
    "    \n",
    "    display(Javascript('IPython.notebook.execute_cells_below()'))\n",
    "    \n",
    "    if not _reset:\n",
    "#         Javascript('$.notify(\"Analyser has been reset\")')\n",
    "        \n",
    "        _reset = True"
   ]
  },
  {
   "cell_type": "code",
   "execution_count": 8,
   "metadata": {
    "extensions": {
     "jupyter_dashboards": {
      "version": 1,
      "views": {
       "grid_default": {
        "hidden": true
       },
       "report_default": {
        "hidden": true
       }
      }
     }
    }
   },
   "outputs": [],
   "source": [
    "submit_input_button.on_click(_on_submit)\n",
    "reset_input_button.on_click(_on_reset)"
   ]
  },
  {
   "cell_type": "code",
   "execution_count": 22,
   "metadata": {
    "extensions": {
     "jupyter_dashboards": {
      "version": 1,
      "views": {
       "grid_default": {
        "col": 0,
        "height": 10,
        "hidden": false,
        "row": 3,
        "width": 12
       },
       "report_default": {
        "hidden": true
       }
      }
     }
    }
   },
   "outputs": [
    {
     "data": {
      "application/javascript": [
       "IPython.notebook.execute_cells_below()"
      ],
      "text/plain": [
       "<IPython.core.display.Javascript object>"
      ]
     },
     "metadata": {},
     "output_type": "display_data"
    },
    {
     "data": {
      "application/vnd.jupyter.widget-view+json": {
       "model_id": "3866c6e9b1ab41dab14f8dc3aab26cc3",
       "version_major": 2,
       "version_minor": 0
      },
      "text/html": [
       "<p>Failed to display Jupyter Widget of type <code>Textarea</code>.</p>\n",
       "<p>\n",
       "  If you're reading this message in Jupyter Notebook or JupyterLab, it may mean\n",
       "  that the widgets JavaScript is still loading. If this message persists, it\n",
       "  likely means that the widgets JavaScript library is either not installed or\n",
       "  not enabled. See the <a href=\"https://ipywidgets.readthedocs.io/en/stable/user_install.html\">Jupyter\n",
       "  Widgets Documentation</a> for setup instructions.\n",
       "</p>\n",
       "<p>\n",
       "  If you're reading this message in another notebook frontend (for example, a static\n",
       "  rendering on GitHub or <a href=\"https://nbviewer.jupyter.org/\">NBViewer</a>),\n",
       "  it may mean that your frontend doesn't currently support widgets.\n",
       "</p>\n"
      ],
      "text/plain": [
       "Textarea(value='VBLEK UOZYE LUXCP VLYFA BZUAQ XPOVL VILVP CCSFP VVBSP SBYJV PWYZH PHMCZ QZYKD ILNKW MDGYP VVOIE EJLLV JHAYP XLLSG LVLAG YCFFP VLWNA BVULT ZYIJY EVBZT PUVZN JPKSH GIIRU AESPP HHRDZ WWFVL ALCYI YEGLU XCPVD EKUPR UPWYD VPFCN LADLI HCEUA APCKV OJTHQ ODEVO CFOIG PDLYE IPDPY VVILT WMZAN LCEVO MOLAZ IWPHX ZWGVH KJLAL XGDCE FDPTN JDILN KPLGG JUITP MOSKZ NICUA AZTAM REYWD DVOYT JHVYP NTCXJ APLGG KLZXL VLHCF NYGIT ZNMHX ZPNNW PGANY GYMHL UHFNC FAESG JBRPJ MLYFP NZUAP LEEOU EELES TEOBR ULFNT VLXRP KJPQQ VFVFA PPTOH AZPHB TZPZI WOHVJ NQUNZ PLVEL NASIC UBDXC USRTL BSPVH FVUAP LECYY KQSLH PCYYR UZCCP FABRV UWGPN TYKJV LDHKS FSGHL ZAVLX RPKES PPDYJ GLBSP QYCXK UIWTV FIWOH TTNGA BVKUO PYWPN PQMIR RTLMJ KVVHS KJBFW YMYPO FXZUW TLJUD YDCFK PCVHC ENFXC PRHLV QBZDP NCYJH VZPGG YSBKU LZQPV PVNZB CLVHA VOHVO PXLLP MPVOZ HILLV HTLYF ALVCJ PPCQB MDCUM FGGYC KJPVV EJHNE QPLPL KZMFQ BBWLP KCJJA PLEKA MYQBT OYQAV VEVVD TFLLV FHVOG KLQVF DQESC ZYRTJ PTYII OKCAB SPUHG VVPUP TJVJV YPBSL UAYRF FMJPY LGLUA VPGGY ZFTNM EEJLM FNPLL DUBLR PJMDZ HZYRR VEPCC UXKJV APHJP WYDLT ZYIAI RKYXZ HGYCW KAKLY DLFFE HTWJG EYIEP APOKO UMGTG DPNMZ LNSKZ YHPXV PJMES CACWC STOZV OYZTK CEJKM HFVOQ YRKZH VISMN EGKUE FPNES GIYJV HZCLP NYDGU BDLTL GRFLI DEJLS RTLJP TPNGR FLEPD JHFCR YWGPQ BLJGS DPDQU WVCNI TYCIF VVVLP QGUXF WYQDW CUXYQ TMEZT PXVQB BESGZ NFTTW QHCYU EFAWZ FVSCM GAPPX GUUTG VNEJT HHEAP NYPEL MJCYG QZTFY RTZQQ YGJYJ UHZJL NVHVC AIYJT HNVVO IETUD BRVDM LCGNI ZPNBZ ETFNF FVBSL VPMKJ LZPDQ SPVQM PTDOH DVUAG DRQCY IPTMY EGCYI ATIYZ HABVO APLEK ZNYGD QWWQM JRTSQ LXGUN RPKBS PPHNZ QUBSP DYCKK ZPPXR PLVCU LESGM LVPJP CPRBV CKJTT YMLXK QNMES GYCEV OMTCE HOJGH VOTPA BVKYV PPFDC CNKMQ PPKNF VOMOP CABKJ LQCYC ACMGZ WTWCP XZPNM LNJVN YGYTT VGNIF FJWXC CKYJV VBSPW AGFUA WQEJL CIUAZ PYIAB VXLVE SQBAY NHZRP VYUTV ZWQPW YIGGH VOXCU SFNKI YOHHG FWZAE LVLMY CCMQL NSYEQ YULJH HFCKU BZEJL AIKWW QEJLA VUAIA ZCUXR NSBSP QKCFW ZIAAC YUKWZ WQYCG CIWSM HPUOU CNUWE QNHAF TMITW YLMYC STRZQ UNFVO MPYFD YJJHT WQKNB KKUNC LPJYN GZPLW NMCXJ AWYEJ LMVCZ IYOQJ YRPZE PDJHF CHPOS EYPNY IYWHT PNWFP MQOPP JYRPK OCZYP HXUAZ PYIAB ZPAPP LKYQV UOIWW FLZVP KWFCK ZFRPK ESLVL PVTAP PNQZN DCFJP HGZBR NSNTR JAIEV OMMPC JBVUD MDSCS FWKNP EZPAB VNHVO TPNAI QBVOD YLMYC STQTI ONZPA PPQKL FUUHV OTPAB VUAZP PVZQV UOIWW HPAYV PVESG OCCNZ EPDJH FCPLD PCUBL IGULP CCUXV XLVTQ YOCTJ PLZYQ AZFTH UZXGU NSGSQ PGGAB ZUPAW LPKII CSICR GWUIV VNTEY LLVUB JUFIH NVFHV ODVHL MKUOE SGUIL TLUAT TLVVA VVOEJ LMVCZ ICXGK UEFNC LCFLX SAAPP MTPNZ UONWP GAQFW SLNLT YSFPA PPDVY OXISM FYVPF ZPNWO DIVIU VPUPE JLHVY DWCWF DCKJH TWTVZ JFYLZ LYFTC XJAAE PRZZF TAPEZ VOYIG ZKFPC UXKJL TTMGY UKKVV ZQVOY FNK', placeholder='Paste here encoded text to be decrypted')"
      ]
     },
     "metadata": {},
     "output_type": "display_data"
    },
    {
     "data": {
      "application/vnd.jupyter.widget-view+json": {
       "model_id": "9f1c5b0ef0594a0685dae5cae47df72f",
       "version_major": 2,
       "version_minor": 0
      },
      "text/html": [
       "<p>Failed to display Jupyter Widget of type <code>HBox</code>.</p>\n",
       "<p>\n",
       "  If you're reading this message in Jupyter Notebook or JupyterLab, it may mean\n",
       "  that the widgets JavaScript is still loading. If this message persists, it\n",
       "  likely means that the widgets JavaScript library is either not installed or\n",
       "  not enabled. See the <a href=\"https://ipywidgets.readthedocs.io/en/stable/user_install.html\">Jupyter\n",
       "  Widgets Documentation</a> for setup instructions.\n",
       "</p>\n",
       "<p>\n",
       "  If you're reading this message in another notebook frontend (for example, a static\n",
       "  rendering on GitHub or <a href=\"https://nbviewer.jupyter.org/\">NBViewer</a>),\n",
       "  it may mean that your frontend doesn't currently support widgets.\n",
       "</p>\n"
      ],
      "text/plain": [
       "HBox(children=(Button(button_style='success', description='SUBMIT', icon='check', style=ButtonStyle()), Button(button_style='danger', description='RESET', style=ButtonStyle())))"
      ]
     },
     "metadata": {},
     "output_type": "display_data"
    }
   ],
   "source": [
    "display(input_area)\n",
    "HBox([submit_input_button, reset_input_button])"
   ]
  },
  {
   "cell_type": "markdown",
   "metadata": {
    "extensions": {
     "jupyter_dashboards": {
      "version": 1,
      "views": {
       "grid_default": {
        "col": 0,
        "height": 4,
        "hidden": true,
        "row": 16,
        "width": 12
       },
       "report_default": {
        "hidden": false
       }
      }
     }
    }
   },
   "source": [
    "---\n",
    "### Frequency Analysis"
   ]
  },
  {
   "cell_type": "code",
   "execution_count": 23,
   "metadata": {
    "extensions": {
     "jupyter_dashboards": {
      "version": 1,
      "views": {
       "grid_default": {
        "hidden": true
       },
       "report_default": {
        "hidden": true
       }
      }
     }
    }
   },
   "outputs": [],
   "source": [
    "default_lang_trace = graph_objs.Bar(\n",
    "    x=analyser.alphabet,\n",
    "    y=analyser.letter_frequency,\n",
    "    name='Language'\n",
    ")\n",
    "\n",
    "if cipher:\n",
    "    cipher_dict = analyser.get_char_frequency()\n",
    "    cipher_trace = graph_objs.Bar(\n",
    "        x=list(cipher_dict.keys()),\n",
    "        y=list(cipher_dict.values()),\n",
    "        name='Cipher'\n",
    "    )\n",
    "    data = [default_lang_trace, cipher_trace]\n",
    "\n",
    "else:\n",
    "    data = [default_lang_trace]\n",
    "    \n",
    "layout = graph_objs.Layout(\n",
    "    title='Frequency analysis',\n",
    "    xaxis=dict(tickangle=-45),\n",
    "    yaxis=dict(tickformat=' %'),\n",
    "    barmode='group'\n",
    ")\n"
   ]
  },
  {
   "cell_type": "code",
   "execution_count": 24,
   "metadata": {
    "extensions": {
     "jupyter_dashboards": {
      "version": 1,
      "views": {
       "grid_default": {
        "col": 0,
        "height": 19,
        "hidden": false,
        "row": 13,
        "width": 12
       },
       "report_default": {
        "hidden": false
       }
      }
     }
    }
   },
   "outputs": [
    {
     "data": {
      "application/vnd.plotly.v1+json": {
       "data": [
        {
         "name": "Language",
         "type": "bar",
         "x": [
          "a",
          "b",
          "c",
          "d",
          "e",
          "f",
          "g",
          "h",
          "i",
          "j",
          "k",
          "l",
          "m",
          "n",
          "o",
          "p",
          "q",
          "r",
          "s",
          "t",
          "u",
          "v",
          "w",
          "x",
          "y",
          "z"
         ],
         "y": [
          0.08167,
          0.01492,
          0.027819999999999998,
          0.04253,
          0.127,
          0.02228,
          0.02015,
          0.06094,
          0.06966,
          0.0015300000000000001,
          0.00772,
          0.04025,
          0.024059999999999998,
          0.06749,
          0.07507,
          0.01929,
          0.00095,
          0.05987000000000001,
          0.06327,
          0.09056,
          0.02758,
          0.00978,
          0.0236,
          0.0015,
          0.01974,
          0.00074
         ]
        },
        {
         "name": "Cipher",
         "type": "bar",
         "x": [
          "a",
          "b",
          "c",
          "d",
          "e",
          "f",
          "g",
          "h",
          "i",
          "j",
          "k",
          "l",
          "m",
          "n",
          "o",
          "p",
          "q",
          "r",
          "s",
          "t",
          "u",
          "v",
          "w",
          "x",
          "y",
          "z"
         ],
         "y": [
          0.04012767897856817,
          0.02416780665754674,
          0.050159598723210214,
          0.025991792065663474,
          0.03602371181030552,
          0.03875968992248062,
          0.03511171910624715,
          0.03556771545827633,
          0.031007751937984496,
          0.036935704514363885,
          0.033287733698130414,
          0.06201550387596899,
          0.027359781121751026,
          0.03875968992248062,
          0.028271773825809393,
          0.08527131782945736,
          0.028727770177838577,
          0.019151846785225718,
          0.02781577747378021,
          0.0392156862745098,
          0.04012767897856817,
          0.06839945280437756,
          0.030095759233926128,
          0.018695850433196534,
          0.055175558595531235,
          0.04377564979480164
         ]
        }
       ],
       "layout": {
        "barmode": "group",
        "title": "Frequency analysis",
        "xaxis": {
         "tickangle": -45
        },
        "yaxis": {
         "tickformat": " %"
        }
       }
      },
      "text/html": [
       "<div id=\"3da46a07-0668-45ec-87b1-a786b369b6a0\" style=\"height: 525px; width: 100%;\" class=\"plotly-graph-div\"></div><script type=\"text/javascript\">require([\"plotly\"], function(Plotly) { window.PLOTLYENV=window.PLOTLYENV || {};window.PLOTLYENV.BASE_URL=\"https://plot.ly\";Plotly.newPlot(\"3da46a07-0668-45ec-87b1-a786b369b6a0\", [{\"type\": \"bar\", \"x\": [\"a\", \"b\", \"c\", \"d\", \"e\", \"f\", \"g\", \"h\", \"i\", \"j\", \"k\", \"l\", \"m\", \"n\", \"o\", \"p\", \"q\", \"r\", \"s\", \"t\", \"u\", \"v\", \"w\", \"x\", \"y\", \"z\"], \"y\": [0.08167, 0.01492, 0.027819999999999998, 0.04253, 0.127, 0.02228, 0.02015, 0.06094, 0.06966, 0.0015300000000000001, 0.00772, 0.04025, 0.024059999999999998, 0.06749, 0.07507, 0.01929, 0.00095, 0.05987000000000001, 0.06327, 0.09056, 0.02758, 0.00978, 0.0236, 0.0015, 0.01974, 0.00074], \"name\": \"Language\"}, {\"type\": \"bar\", \"x\": [\"a\", \"b\", \"c\", \"d\", \"e\", \"f\", \"g\", \"h\", \"i\", \"j\", \"k\", \"l\", \"m\", \"n\", \"o\", \"p\", \"q\", \"r\", \"s\", \"t\", \"u\", \"v\", \"w\", \"x\", \"y\", \"z\"], \"y\": [0.04012767897856817, 0.02416780665754674, 0.050159598723210214, 0.025991792065663474, 0.03602371181030552, 0.03875968992248062, 0.03511171910624715, 0.03556771545827633, 0.031007751937984496, 0.036935704514363885, 0.033287733698130414, 0.06201550387596899, 0.027359781121751026, 0.03875968992248062, 0.028271773825809393, 0.08527131782945736, 0.028727770177838577, 0.019151846785225718, 0.02781577747378021, 0.0392156862745098, 0.04012767897856817, 0.06839945280437756, 0.030095759233926128, 0.018695850433196534, 0.055175558595531235, 0.04377564979480164], \"name\": \"Cipher\"}], {\"title\": \"Frequency analysis\", \"xaxis\": {\"tickangle\": -45}, \"yaxis\": {\"tickformat\": \" %\"}, \"barmode\": \"group\"}, {\"showLink\": true, \"linkText\": \"Export to plot.ly\"})});</script>"
      ],
      "text/vnd.plotly.v1+html": [
       "<div id=\"3da46a07-0668-45ec-87b1-a786b369b6a0\" style=\"height: 525px; width: 100%;\" class=\"plotly-graph-div\"></div><script type=\"text/javascript\">require([\"plotly\"], function(Plotly) { window.PLOTLYENV=window.PLOTLYENV || {};window.PLOTLYENV.BASE_URL=\"https://plot.ly\";Plotly.newPlot(\"3da46a07-0668-45ec-87b1-a786b369b6a0\", [{\"type\": \"bar\", \"x\": [\"a\", \"b\", \"c\", \"d\", \"e\", \"f\", \"g\", \"h\", \"i\", \"j\", \"k\", \"l\", \"m\", \"n\", \"o\", \"p\", \"q\", \"r\", \"s\", \"t\", \"u\", \"v\", \"w\", \"x\", \"y\", \"z\"], \"y\": [0.08167, 0.01492, 0.027819999999999998, 0.04253, 0.127, 0.02228, 0.02015, 0.06094, 0.06966, 0.0015300000000000001, 0.00772, 0.04025, 0.024059999999999998, 0.06749, 0.07507, 0.01929, 0.00095, 0.05987000000000001, 0.06327, 0.09056, 0.02758, 0.00978, 0.0236, 0.0015, 0.01974, 0.00074], \"name\": \"Language\"}, {\"type\": \"bar\", \"x\": [\"a\", \"b\", \"c\", \"d\", \"e\", \"f\", \"g\", \"h\", \"i\", \"j\", \"k\", \"l\", \"m\", \"n\", \"o\", \"p\", \"q\", \"r\", \"s\", \"t\", \"u\", \"v\", \"w\", \"x\", \"y\", \"z\"], \"y\": [0.04012767897856817, 0.02416780665754674, 0.050159598723210214, 0.025991792065663474, 0.03602371181030552, 0.03875968992248062, 0.03511171910624715, 0.03556771545827633, 0.031007751937984496, 0.036935704514363885, 0.033287733698130414, 0.06201550387596899, 0.027359781121751026, 0.03875968992248062, 0.028271773825809393, 0.08527131782945736, 0.028727770177838577, 0.019151846785225718, 0.02781577747378021, 0.0392156862745098, 0.04012767897856817, 0.06839945280437756, 0.030095759233926128, 0.018695850433196534, 0.055175558595531235, 0.04377564979480164], \"name\": \"Cipher\"}], {\"title\": \"Frequency analysis\", \"xaxis\": {\"tickangle\": -45}, \"yaxis\": {\"tickformat\": \" %\"}, \"barmode\": \"group\"}, {\"showLink\": true, \"linkText\": \"Export to plot.ly\"})});</script>"
      ]
     },
     "metadata": {},
     "output_type": "display_data"
    }
   ],
   "source": [
    "fig = graph_objs.Figure(data=data, layout=layout)\n",
    "\n",
    "plotly.iplot(fig)"
   ]
  },
  {
   "cell_type": "markdown",
   "metadata": {
    "extensions": {
     "jupyter_dashboards": {
      "version": 1,
      "views": {
       "grid_default": {
        "col": 0,
        "height": 4,
        "hidden": false,
        "row": 32,
        "width": 12
       },
       "report_default": {
        "hidden": false
       }
      }
     }
    }
   },
   "source": [
    "---\n",
    "### Key decryption"
   ]
  },
  {
   "cell_type": "code",
   "execution_count": 25,
   "metadata": {
    "extensions": {
     "jupyter_dashboards": {
      "version": 1,
      "views": {
       "grid_default": {
        "hidden": true
       },
       "report_default": {
        "hidden": true
       }
      }
     }
    }
   },
   "outputs": [
    {
     "name": "stdout",
     "output_type": "stream",
     "text": [
      "call\n",
      " 0 None\n"
     ]
    },
    {
     "data": {
      "application/javascript": [
       "IPython.notebook.execute_cells_below()"
      ],
      "text/plain": [
       "<IPython.core.display.Javascript object>"
      ]
     },
     "metadata": {},
     "output_type": "display_data"
    }
   ],
   "source": [
    "options = [] if not cipher else analyser.get_key_len_list()\n",
    "\n",
    "widget_key_len = widgets.ToggleButtons(\n",
    "    options=['-'] if not options else options,\n",
    "    disabled=not options,\n",
    "    button_style=''\n",
    ")\n",
    "\n",
    "key = ''\n",
    "\n",
    "def _on_len_change(sender):\n",
    "    global key\n",
    "    print('call')\n",
    "    print(key, widget_key_len.index, sender)\n",
    "    if _submitted:\n",
    "        key, _ = analyser.get_keys(key_id=widget_key_len.index)\n",
    "        \n",
    "        display(Javascript(\"IPython.notebook.execute_cells_below()\"))\n",
    "    else:\n",
    "        key = ''\n",
    "\n",
    "widget_key_len.observe(_on_len_change, 'value')\n",
    "\n",
    "_on_len_change(None)  # Run for initialization"
   ]
  },
  {
   "cell_type": "code",
   "execution_count": 54,
   "metadata": {
    "extensions": {
     "jupyter_dashboards": {
      "version": 1,
      "views": {
       "grid_default": {
        "col": 0,
        "height": 4,
        "hidden": false,
        "row": 36,
        "width": 12
       },
       "report_default": {
        "hidden": false
       }
      }
     }
    }
   },
   "outputs": [
    {
     "data": {
      "application/javascript": [
       "IPython.notebook.execute_cells_below()"
      ],
      "text/plain": [
       "<IPython.core.display.Javascript object>"
      ]
     },
     "metadata": {},
     "output_type": "display_data"
    },
    {
     "data": {
      "application/vnd.jupyter.widget-view+json": {
       "model_id": "f82219b112c74ee7999cbf071312f261",
       "version_major": 2,
       "version_minor": 0
      },
      "text/html": [
       "<p>Failed to display Jupyter Widget of type <code>ToggleButtons</code>.</p>\n",
       "<p>\n",
       "  If you're reading this message in Jupyter Notebook or JupyterLab, it may mean\n",
       "  that the widgets JavaScript is still loading. If this message persists, it\n",
       "  likely means that the widgets JavaScript library is either not installed or\n",
       "  not enabled. See the <a href=\"https://ipywidgets.readthedocs.io/en/stable/user_install.html\">Jupyter\n",
       "  Widgets Documentation</a> for setup instructions.\n",
       "</p>\n",
       "<p>\n",
       "  If you're reading this message in another notebook frontend (for example, a static\n",
       "  rendering on GitHub or <a href=\"https://nbviewer.jupyter.org/\">NBViewer</a>),\n",
       "  it may mean that your frontend doesn't currently support widgets.\n",
       "</p>\n"
      ],
      "text/plain": [
       "ToggleButtons(options=(9, 5, 1), value=9)"
      ]
     },
     "metadata": {},
     "output_type": "display_data"
    }
   ],
   "source": [
    "display(widget_key_len)"
   ]
  },
  {
   "cell_type": "markdown",
   "metadata": {
    "extensions": {
     "jupyter_dashboards": {
      "version": 1,
      "views": {
       "grid_default": {
        "hidden": true
       },
       "report_default": {}
      }
     }
    }
   },
   "source": [
    "#### Decrypted key"
   ]
  },
  {
   "cell_type": "code",
   "execution_count": 55,
   "metadata": {
    "extensions": {
     "jupyter_dashboards": {
      "version": 1,
      "views": {
       "grid_default": {
        "col": 0,
        "height": 4,
        "hidden": false,
        "row": 40,
        "width": 12
       },
       "report_default": {
        "hidden": false
       }
      }
     }
    }
   },
   "outputs": [
    {
     "data": {
      "text/markdown": [
       "\n",
       "<h3><center>$bgtqbghkk$</center></h3>\n"
      ],
      "text/plain": [
       "<IPython.core.display.Markdown object>"
      ]
     },
     "execution_count": 55,
     "metadata": {},
     "output_type": "execute_result"
    }
   ],
   "source": [
    "Markdown(\"\"\"\n",
    "<h3><center>$%s$</center></h3>\n",
    "\"\"\" % (key or '-'))"
   ]
  },
  {
   "cell_type": "markdown",
   "metadata": {
    "extensions": {
     "jupyter_dashboards": {
      "version": 1,
      "views": {
       "grid_default": {
        "col": 0,
        "height": 4,
        "hidden": false,
        "row": 48,
        "width": 4
       },
       "report_default": {
        "hidden": false
       }
      }
     }
    }
   },
   "source": [
    "---\n",
    "### Text decryption"
   ]
  },
  {
   "cell_type": "code",
   "execution_count": 56,
   "metadata": {
    "extensions": {
     "jupyter_dashboards": {
      "version": 1,
      "views": {
       "grid_default": {
        "hidden": true
       },
       "report_default": {
        "hidden": true
       }
      }
     }
    }
   },
   "outputs": [],
   "source": [
    "widget_rotation = widgets.ToggleButtons(\n",
    "    options=[1, 0],\n",
    "    description='Select rotation',\n",
    "    disabled=False,\n",
    "    tooltips=['Rotation 1: `a` -> `b`', 'Rotation 0: `a` -> `a`']\n",
    ")\n"
   ]
  },
  {
   "cell_type": "code",
   "execution_count": 57,
   "metadata": {
    "extensions": {
     "jupyter_dashboards": {
      "version": 1,
      "views": {
       "grid_default": {
        "hidden": true
       },
       "report_default": {}
      }
     }
    }
   },
   "outputs": [],
   "source": [
    "def _on_rot_change(sender):\n",
    "    # widget ToggleButtons seems to fail sometimes if no event is bound\n",
    "    display(Javascript(\"IPython.notebook.execute_cells_below()\"))"
   ]
  },
  {
   "cell_type": "code",
   "execution_count": 58,
   "metadata": {
    "extensions": {
     "jupyter_dashboards": {
      "version": 1,
      "views": {
       "grid_default": {
        "hidden": true
       },
       "report_default": {}
      }
     }
    }
   },
   "outputs": [],
   "source": [
    "widget_rotation.observe(_on_rot_change, 'value')"
   ]
  },
  {
   "cell_type": "code",
   "execution_count": 59,
   "metadata": {
    "extensions": {
     "jupyter_dashboards": {
      "version": 1,
      "views": {
       "grid_default": {
        "col": 0,
        "height": 4,
        "hidden": false,
        "row": 44,
        "width": 12
       },
       "report_default": {
        "hidden": false
       }
      }
     }
    }
   },
   "outputs": [
    {
     "data": {
      "application/vnd.jupyter.widget-view+json": {
       "model_id": "2d51a85792534f5aac7d8981b8fa09b5",
       "version_major": 2,
       "version_minor": 0
      },
      "text/html": [
       "<p>Failed to display Jupyter Widget of type <code>ToggleButtons</code>.</p>\n",
       "<p>\n",
       "  If you're reading this message in Jupyter Notebook or JupyterLab, it may mean\n",
       "  that the widgets JavaScript is still loading. If this message persists, it\n",
       "  likely means that the widgets JavaScript library is either not installed or\n",
       "  not enabled. See the <a href=\"https://ipywidgets.readthedocs.io/en/stable/user_install.html\">Jupyter\n",
       "  Widgets Documentation</a> for setup instructions.\n",
       "</p>\n",
       "<p>\n",
       "  If you're reading this message in another notebook frontend (for example, a static\n",
       "  rendering on GitHub or <a href=\"https://nbviewer.jupyter.org/\">NBViewer</a>),\n",
       "  it may mean that your frontend doesn't currently support widgets.\n",
       "</p>\n"
      ],
      "text/plain": [
       "ToggleButtons(description='Select rotation', options=(1, 0), tooltips=['Rotation 1: `a` -> `b`', 'Rotation 0: `a` -> `a`'], value=1)"
      ]
     },
     "metadata": {},
     "output_type": "display_data"
    }
   ],
   "source": [
    "display(widget_rotation)"
   ]
  },
  {
   "cell_type": "code",
   "execution_count": 60,
   "metadata": {
    "extensions": {
     "jupyter_dashboards": {
      "version": 1,
      "views": {
       "grid_default": {
        "hidden": true
       },
       "report_default": {
        "hidden": true
       }
      }
     }
    }
   },
   "outputs": [],
   "source": [
    "result = ''\n",
    "if _submitted:\n",
    "    result = analyser.decipher(custom_key=key, rot=widget_rotation.value)\n",
    "    \n",
    "output_area.value = result\n",
    "\n"
   ]
  },
  {
   "cell_type": "code",
   "execution_count": 61,
   "metadata": {
    "extensions": {
     "jupyter_dashboards": {
      "version": 1,
      "views": {
       "grid_default": {
        "col": 0,
        "height": 4,
        "hidden": false,
        "row": 52,
        "width": 4
       },
       "report_default": {}
      }
     }
    }
   },
   "outputs": [
    {
     "data": {
      "application/vnd.jupyter.widget-view+json": {
       "model_id": "c0a338441e984c43a2ff9a091fe17b6b",
       "version_major": 2,
       "version_minor": 0
      },
      "text/html": [
       "<p>Failed to display Jupyter Widget of type <code>Textarea</code>.</p>\n",
       "<p>\n",
       "  If you're reading this message in Jupyter Notebook or JupyterLab, it may mean\n",
       "  that the widgets JavaScript is still loading. If this message persists, it\n",
       "  likely means that the widgets JavaScript library is either not installed or\n",
       "  not enabled. See the <a href=\"https://ipywidgets.readthedocs.io/en/stable/user_install.html\">Jupyter\n",
       "  Widgets Documentation</a> for setup instructions.\n",
       "</p>\n",
       "<p>\n",
       "  If you're reading this message in another notebook frontend (for example, a static\n",
       "  rendering on GitHub or <a href=\"https://nbviewer.jupyter.org/\">NBViewer</a>),\n",
       "  it may mean that your frontend doesn't currently support widgets.\n",
       "</p>\n"
      ],
      "text/plain": [
       "Textarea(value='turni ngonc eagai nandt histi memor egene rally tothe quest ionof invas ioniw ouldo bserv ethat there hasne verbe enape riodi nallt hesel ongce nturi esofw hichw eboas twhen anabs olute guara nteea gains tinva sions tilll essag ainst serio usrai dscou ldhav ebeen given toour peopl einth edays ofnap oleon thesa mewin dwhic hwoul dhave carri edhis trans ports acros sthec hanne lmigh thave drive naway thebl ockad ingfl eetth erewa salwa ysthe chanc eandi tisth atcha ncewh ichha sexci tedan dbefo oledt heima ginat ionso fmany conti nenta ltyra ntsma nyare theta lesth atare toldw earea ssure dthat novel metho dswil lbead opted andwh enwes eethe origi nalit yofma licet heing enuit yofag gress ionwh ichou renem ydisp laysw emayc ertai nlypr epare ourse lvesf oreve rykin dofno velst ratag emand every kindo fbrut aland treac herou smane uveri think thatn oidea issoo utlan disht hatit shoul dnotb econs idere dandv iewed witha searc hingb utatt hesam etime ihope witha stead yeyew emust never forge tthes olida ssura nceso fseap owera ndtho sewhi chbel ongto airpo werif itcan beloc allye xerci sedih avemy selff ullco nfide nceth atifa lldot heird utyif nothi ngisn eglec tedan difth ebest arran gemen tsare madea sthey arebe ingma dewes hallp roveo ursel veson ceaga inabl etode fendo urisl andho metor ideou tthes tormo fwara ndtoo utliv ethem enace oftyr annyi fnece ssary forye arsif neces sarya lonea tanyr ateth atisw hatwe arego ingto tryto dotha tisth ereso lveof hisma jesty sgove rnmen tever ymano fthem thati sthew illof parli ament andth enati onthe briti shemp irean dthef rench repub licli nkedt ogeth erint heirc ausea ndint heirn eedwi lldef endto thede athth eirna tives oilai dinge achot herli kegoo dcomr adest otheu tmost ofthe irstr ength event hough large tract sofeu ropea ndman yolda ndfam ousst atesh avefa lleno rmayf allin tothe gripo ftheg estap oanda llthe odiou sappa ratus ofnaz irule wesha llnot flago rfail wesha llgoo ntoth eendw eshal lfigh tinfr ancew eshal lfigh tonth eseas andoc eansw eshal lfigh twith growi ngcon fiden ceand growi ngstr ength inthe airwe shall defen douri sland whate verth ecost maybe wesha llfig htont hebea chesw eshal lfigh tonth eland inggr ounds wesha llfig htint hefie ldsan dinth estre etswe shall fight inthe hills wesha llnev ersur rende rande venif which idono tfora momen tbeli eveth isisl andor alarg epart ofitw eresu bjuga tedan dstar vingt henou rempi rebey ondth eseas armed andgu arded bythe briti shfle etwou ldcar ryont hestr uggle until ingod sgood timet henew world witha llits power andmi ghtst epsfo rthto there scuea ndthe liber ation ofthe old', disabled=True, placeholder='Submit cipher and start decrypting')"
      ]
     },
     "metadata": {},
     "output_type": "display_data"
    }
   ],
   "source": [
    "display(output_area)"
   ]
  }
 ],
 "metadata": {
  "extensions": {
   "jupyter_dashboards": {
    "activeView": "grid_default",
    "version": 1,
    "views": {
     "grid_default": {
      "cellMargin": 10,
      "defaultCellHeight": 20,
      "maxColumns": 12,
      "name": "grid",
      "type": "grid"
     },
     "report_default": {
      "name": "report",
      "type": "report"
     }
    }
   }
  },
  "kernelspec": {
   "display_name": "Python 3",
   "language": "python",
   "name": "python3"
  },
  "language_info": {
   "codemirror_mode": {
    "name": "ipython",
    "version": 3
   },
   "file_extension": ".py",
   "mimetype": "text/x-python",
   "name": "python",
   "nbconvert_exporter": "python",
   "pygments_lexer": "ipython3",
   "version": "3.6.3"
  }
 },
 "nbformat": 4,
 "nbformat_minor": 1
}
